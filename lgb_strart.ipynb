{
 "cells": [
  {
   "cell_type": "code",
   "execution_count": 1,
   "metadata": {},
   "outputs": [
    {
     "name": "stdout",
     "output_type": "stream",
     "text": [
      "sample_submission.csv\n",
      "test.csv\n",
      "train.csv\n",
      "\n"
     ]
    },
    {
     "name": "stderr",
     "output_type": "stream",
     "text": [
      "/usr/local/lib/python3.5/dist-packages/sklearn/cross_validation.py:41: DeprecationWarning: This module was deprecated in version 0.18 in favor of the model_selection module into which all the refactored classes and functions are moved. Also note that the interface of the new CV iterators are different from that of this module. This module will be removed in 0.20.\n",
      "  \"This module will be removed in 0.20.\", DeprecationWarning)\n"
     ]
    }
   ],
   "source": [
    "import numpy as np\n",
    "import pandas as pd\n",
    "from sklearn.preprocessing import LabelEncoder\n",
    "from sklearn.linear_model import ElasticNet\n",
    "from sklearn.metrics import  r2_score\n",
    "import matplotlib.pyplot as plt\n",
    "%matplotlib inline\n",
    "\n",
    "import lightgbm as lgb\n",
    "import xgboost as xgb\n",
    "from subprocess import check_output\n",
    "print(check_output(['ls','input']).decode('utf8'))"
   ]
  },
  {
   "cell_type": "code",
   "execution_count": 2,
   "metadata": {},
   "outputs": [
    {
     "name": "stdout",
     "output_type": "stream",
     "text": [
      "Train data size: (9366, 18) Test data size: (4801, 17)\n"
     ]
    }
   ],
   "source": [
    "train = pd.read_csv('input/train.csv', parse_dates=['start_date','creation_date','sell_date'])\n",
    "test = pd.read_csv('input/test.csv', parse_dates=['start_date','creation_date','sell_date'])\n",
    "\n",
    "print('Train data size: {} Test data size: {}'.format(train.shape, test.shape))"
   ]
  },
  {
   "cell_type": "code",
   "execution_count": 3,
   "metadata": {
    "collapsed": true
   },
   "outputs": [],
   "source": [
    "train['desk_id'].fillna('DSK00000099', inplace=True)\n",
    "test['desk_id'].fillna('DSK00000099', inplace=True)\n",
    "\n",
    "train['desk_id']=train.desk_id.apply(lambda x : x[-4:]).astype(np.int16)\n",
    "test['desk_id']=test.desk_id.apply(lambda x : x[-4:]).astype(np.int16)"
   ]
  },
  {
   "cell_type": "code",
   "execution_count": 4,
   "metadata": {
    "collapsed": true
   },
   "outputs": [],
   "source": [
    "le = LabelEncoder()\n",
    "le.fit(train['office_id'])\n",
    "train['office_id'] = le.transform(train['office_id'])\n",
    "test['office_id'] = le.transform(test['office_id'])"
   ]
  },
  {
   "cell_type": "code",
   "execution_count": 5,
   "metadata": {
    "collapsed": true
   },
   "outputs": [],
   "source": [
    "le.fit(train['pf_category'])\n",
    "train['pf_category'] = le.transform(train['pf_category'])\n",
    "test['pf_category'] = le.transform(test['pf_category'])"
   ]
  },
  {
   "cell_type": "code",
   "execution_count": 6,
   "metadata": {
    "collapsed": true
   },
   "outputs": [],
   "source": [
    "train['start_creation'] = (train.start_date - train.creation_date).dt.days\n",
    "test['start_creation'] = (test.start_date - test.creation_date).dt.days"
   ]
  },
  {
   "cell_type": "code",
   "execution_count": 7,
   "metadata": {
    "collapsed": true
   },
   "outputs": [],
   "source": [
    "train['start_sell'] = (train.start_date - train.sell_date).dt.days\n",
    "test['start_sell'] = (test.start_date - test.sell_date).dt.days"
   ]
  },
  {
   "cell_type": "code",
   "execution_count": 8,
   "metadata": {
    "collapsed": true
   },
   "outputs": [],
   "source": [
    "train['creation_sell'] = (train.creation_date - train.sell_date).dt.days\n",
    "test['creation_sell'] = (test.creation_date - test.sell_date).dt.days"
   ]
  },
  {
   "cell_type": "code",
   "execution_count": 9,
   "metadata": {
    "collapsed": true
   },
   "outputs": [],
   "source": [
    "train['curr_to_eur'] = train['currency'].apply(lambda x : 1.18 if x=='USD' else 1.17  if x=='CHF'\n",
    "                                               else 133.28 if x=='JPY'  else 1)\n",
    "test['curr_to_eur'] = test['currency'].apply(lambda x : 1.18 if x=='USD' else 1.17  if x=='CHF' \n",
    "                                                else 133.28 if x=='JPY'  else 1)"
   ]
  },
  {
   "cell_type": "code",
   "execution_count": 10,
   "metadata": {
    "collapsed": true
   },
   "outputs": [],
   "source": [
    "train['sold'].fillna(68552000.0, inplace= True)\n",
    "train['bought'].fillna(68427270.0, inplace= True)"
   ]
  },
  {
   "cell_type": "code",
   "execution_count": 11,
   "metadata": {
    "collapsed": true
   },
   "outputs": [],
   "source": [
    "train['sold_in_eur'] = train['sold']*train['curr_to_eur']\n",
    "test['sold_in_eur'] = test['sold']*test['curr_to_eur']\n",
    "\n",
    "train['bought_in_eur'] = train['bought']*train['curr_to_eur']\n",
    "test['bought_in_eur'] = test['bought']*test['curr_to_eur']"
   ]
  },
  {
   "cell_type": "code",
   "execution_count": 12,
   "metadata": {
    "collapsed": true
   },
   "outputs": [],
   "source": [
    "train['dff_sold_bought'] = (train.sold - train.bought)\n",
    "test['dff_sold_bought'] = (test.sold - test.bought)"
   ]
  },
  {
   "cell_type": "code",
   "execution_count": 13,
   "metadata": {
    "collapsed": true
   },
   "outputs": [],
   "source": [
    "train['gain_loss'] = train.dff_sold_bought * train.euribor_rate *train['curr_to_eur']*train['start_sell']/30\n",
    "test['gain_loss'] = test.dff_sold_bought * test.euribor_rate *test['curr_to_eur']*test['start_sell']/30"
   ]
  },
  {
   "cell_type": "code",
   "execution_count": 14,
   "metadata": {
    "collapsed": true
   },
   "outputs": [],
   "source": [
    "train.drop(['start_date','creation_date', 'sell_date'], inplace=True, axis=1)\n",
    "test.drop(['start_date','creation_date', 'sell_date'], inplace=True, axis=1)"
   ]
  },
  {
   "cell_type": "code",
   "execution_count": 15,
   "metadata": {
    "collapsed": true
   },
   "outputs": [],
   "source": [
    "le.fit(train['country_code'])\n",
    "train['country_code'] = le.transform(train['country_code'])\n",
    "test['country_code'] = le.transform(test['country_code'])"
   ]
  },
  {
   "cell_type": "code",
   "execution_count": 16,
   "metadata": {
    "collapsed": true
   },
   "outputs": [],
   "source": [
    "le.fit(train['currency'])\n",
    "train['currency'] = le.transform(train['currency'])\n",
    "test['currency'] = le.transform(test['currency'])"
   ]
  },
  {
   "cell_type": "code",
   "execution_count": 17,
   "metadata": {
    "collapsed": true
   },
   "outputs": [],
   "source": [
    "train['libor_rate'].fillna(0.0, inplace= True)\n",
    "test['libor_rate'].fillna(0.0, inplace=True)"
   ]
  },
  {
   "cell_type": "code",
   "execution_count": 18,
   "metadata": {
    "collapsed": true
   },
   "outputs": [],
   "source": [
    "train['sold_libor'] = train['sold']*train['libor_rate']\n",
    "test['sold_libor'] = test['sold']*test['libor_rate']\n",
    "\n",
    "train['sold_euribor'] = train['sold']*train['euribor_rate']\n",
    "test['sold_euribor'] = test['sold']*test['euribor_rate']"
   ]
  },
  {
   "cell_type": "code",
   "execution_count": 19,
   "metadata": {
    "collapsed": true
   },
   "outputs": [],
   "source": [
    "train['indicator_code'].fillna(False, inplace= True)\n",
    "test['indicator_code'].fillna(False, inplace= True)\n",
    "\n",
    "le.fit(train['indicator_code'])\n",
    "train['indicator_code'] = le.transform(train['indicator_code'])\n",
    "test['indicator_code'] = le.transform(test['indicator_code'])"
   ]
  },
  {
   "cell_type": "code",
   "execution_count": 20,
   "metadata": {
    "collapsed": true
   },
   "outputs": [],
   "source": [
    "le.fit(train['type'])\n",
    "train['type'] = le.transform(train['type'])\n",
    "test['type'] = le.transform(test['type'])"
   ]
  },
  {
   "cell_type": "code",
   "execution_count": 21,
   "metadata": {
    "collapsed": true
   },
   "outputs": [],
   "source": [
    "train['hedge_value'].fillna(False, inplace=True)\n",
    "test['hedge_value'].fillna(False, inplace=True)\n",
    "\n",
    "train['hedge_value'] = train['hedge_value'].map({False:0, True:1})\n",
    "test['hedge_value'] = test['hedge_value'].map({False:0, True:1})"
   ]
  },
  {
   "cell_type": "code",
   "execution_count": 22,
   "metadata": {
    "collapsed": true
   },
   "outputs": [],
   "source": [
    "train['status'].fillna(False, inplace= True)\n",
    "test['status'].fillna(False, inplace= True)\n",
    "\n",
    "train['status'] = train['status'].map({False:0, True:1})\n",
    "train['status'] = train['status'].map({False:0, True:1})"
   ]
  },
  {
   "cell_type": "code",
   "execution_count": 23,
   "metadata": {
    "collapsed": true
   },
   "outputs": [],
   "source": [
    "retn = train['return']\n",
    "test_portfolio_id = test.portfolio_id.values\n",
    "\n",
    "#train.drop(['portfolio_id','bought', 'type', 'return'], inplace=True, axis=1)\n",
    "#test.drop(['portfolio_id','bought', 'type'], inplace=True, axis=1)\n",
    "train.drop(['portfolio_id',  'return'], inplace=True, axis=1)\n",
    "test.drop(['portfolio_id'], inplace=True, axis=1)"
   ]
  },
  {
   "cell_type": "code",
   "execution_count": 24,
   "metadata": {
    "collapsed": true
   },
   "outputs": [],
   "source": []
  },
  {
   "cell_type": "code",
   "execution_count": 140,
   "metadata": {
    "collapsed": true
   },
   "outputs": [],
   "source": [
    "params = {'learning_rate': 0.04, \n",
    "          'num_leaves':70,\n",
    "          'min_data_in_leaf': 120,\n",
    "          'max_depth': -1, \n",
    "          'colsample_bytree': 0.8,#0.522,\n",
    "          'boosting': 'gbdt', \n",
    "          'application': 'regression', \n",
    "          \"min_child_samples\": 10,\n",
    "          'metric': 'mae',  \n",
    "          'verbosity': 0,\n",
    "          'seed': 32}"
   ]
  },
  {
   "cell_type": "code",
   "execution_count": 141,
   "metadata": {
    "collapsed": true
   },
   "outputs": [],
   "source": [
    "lgb_train = lgb.Dataset(train, label=np.log1p(retn))"
   ]
  },
  {
   "cell_type": "code",
   "execution_count": 142,
   "metadata": {},
   "outputs": [
    {
     "name": "stdout",
     "output_type": "stream",
     "text": [
      "[100]\tcv_agg's l1: 0.00152072 + 7.49139e-05\n",
      "[200]\tcv_agg's l1: 0.00131357 + 8.49467e-05\n",
      "[300]\tcv_agg's l1: 0.00123613 + 7.29904e-05\n",
      "[400]\tcv_agg's l1: 0.00119929 + 6.43389e-05\n",
      "[500]\tcv_agg's l1: 0.00118254 + 5.91141e-05\n",
      "[600]\tcv_agg's l1: 0.00117745 + 5.3454e-05\n"
     ]
    }
   ],
   "source": [
    "lgb_cv = lgb.cv(params, lgb_train, num_boost_round=10000, nfold= 5, stratified=False,\n",
    "                 verbose_eval=100, early_stopping_rounds=40)"
   ]
  },
  {
   "cell_type": "code",
   "execution_count": 143,
   "metadata": {},
   "outputs": [
    {
     "name": "stdout",
     "output_type": "stream",
     "text": [
      "622\n"
     ]
    }
   ],
   "source": [
    "nround = lgb_cv['l1-mean'].index(np.min(lgb_cv['l1-mean'])) #mae\n",
    "#nround = lgb_cv['rmse-mean'].index(np.min(lgb_cv['rmse-mean'])) #rmse\n",
    "print(nround)"
   ]
  },
  {
   "cell_type": "code",
   "execution_count": 144,
   "metadata": {
    "collapsed": true
   },
   "outputs": [],
   "source": [
    "model = lgb.train(params, lgb_train, num_boost_round=nround)"
   ]
  },
  {
   "cell_type": "code",
   "execution_count": 145,
   "metadata": {},
   "outputs": [
    {
     "data": {
      "text/plain": [
       "0.86386294454307877"
      ]
     },
     "execution_count": 145,
     "metadata": {},
     "output_type": "execute_result"
    }
   ],
   "source": [
    "r2_score(retn, np.expm1(model.predict(train)))"
   ]
  },
  {
   "cell_type": "code",
   "execution_count": 95,
   "metadata": {},
   "outputs": [],
   "source": [
    "#lgb.plot_importance(model)"
   ]
  },
  {
   "cell_type": "code",
   "execution_count": 96,
   "metadata": {
    "collapsed": true
   },
   "outputs": [],
   "source": [
    "pred = model.predict(test)"
   ]
  },
  {
   "cell_type": "code",
   "execution_count": 97,
   "metadata": {},
   "outputs": [
    {
     "data": {
      "text/html": [
       "<div>\n",
       "<style>\n",
       "    .dataframe thead tr:only-child th {\n",
       "        text-align: right;\n",
       "    }\n",
       "\n",
       "    .dataframe thead th {\n",
       "        text-align: left;\n",
       "    }\n",
       "\n",
       "    .dataframe tbody tr th {\n",
       "        vertical-align: top;\n",
       "    }\n",
       "</style>\n",
       "<table border=\"1\" class=\"dataframe\">\n",
       "  <thead>\n",
       "    <tr style=\"text-align: right;\">\n",
       "      <th></th>\n",
       "      <th>portfolio_id</th>\n",
       "      <th>return</th>\n",
       "    </tr>\n",
       "  </thead>\n",
       "  <tbody>\n",
       "    <tr>\n",
       "      <th>0</th>\n",
       "      <td>PF00001001</td>\n",
       "      <td>0.028634</td>\n",
       "    </tr>\n",
       "    <tr>\n",
       "      <th>1</th>\n",
       "      <td>PF00001004</td>\n",
       "      <td>0.037468</td>\n",
       "    </tr>\n",
       "    <tr>\n",
       "      <th>2</th>\n",
       "      <td>PF00001009</td>\n",
       "      <td>0.023994</td>\n",
       "    </tr>\n",
       "    <tr>\n",
       "      <th>3</th>\n",
       "      <td>PF00001013</td>\n",
       "      <td>0.025118</td>\n",
       "    </tr>\n",
       "    <tr>\n",
       "      <th>4</th>\n",
       "      <td>PF00001014</td>\n",
       "      <td>0.024616</td>\n",
       "    </tr>\n",
       "  </tbody>\n",
       "</table>\n",
       "</div>"
      ],
      "text/plain": [
       "  portfolio_id    return\n",
       "0   PF00001001  0.028634\n",
       "1   PF00001004  0.037468\n",
       "2   PF00001009  0.023994\n",
       "3   PF00001013  0.025118\n",
       "4   PF00001014  0.024616"
      ]
     },
     "execution_count": 97,
     "metadata": {},
     "output_type": "execute_result"
    }
   ],
   "source": [
    "sub = pd.DataFrame({'portfolio_id':test_portfolio_id, 'return':np.expm1(pred)})\n",
    "sub.head(5)"
   ]
  },
  {
   "cell_type": "code",
   "execution_count": 98,
   "metadata": {
    "collapsed": true
   },
   "outputs": [],
   "source": [
    "sub.to_csv('lgb_v4.csv', index=False)"
   ]
  },
  {
   "cell_type": "code",
   "execution_count": 104,
   "metadata": {},
   "outputs": [],
   "source": [
    "en = ElasticNet(max_iter=10000, normalize=True)\n",
    "lr = en.fit(train, retn)"
   ]
  },
  {
   "cell_type": "code",
   "execution_count": 105,
   "metadata": {},
   "outputs": [
    {
     "data": {
      "text/plain": [
       "array([ 0.01409979,  0.01409979,  0.01409979, ...,  0.01409979,\n",
       "        0.01409979,  0.01409979])"
      ]
     },
     "execution_count": 105,
     "metadata": {},
     "output_type": "execute_result"
    }
   ],
   "source": [
    "#r2_score(retn, lr.predict(train))\n",
    "lr.predict(train)"
   ]
  },
  {
   "cell_type": "code",
   "execution_count": 108,
   "metadata": {
    "collapsed": true
   },
   "outputs": [],
   "source": [
    "def xgb_r2(pred, drain):\n",
    "    y = list(drain.get_label())\n",
    "    score = r2_score(y, np.expm1(pred))\n",
    "    return 'r2_score', score\n",
    "    "
   ]
  },
  {
   "cell_type": "code",
   "execution_count": 115,
   "metadata": {
    "collapsed": true
   },
   "outputs": [],
   "source": [
    "xgb_params = {\n",
    "    'seed': 4,\n",
    "    'colsample_bytree': 0.73,\n",
    "    'silent': 1,\n",
    "    'subsample': 0.63,\n",
    "    'learning_rate': 0.04,\n",
    "    'objective':'reg:linear',    \n",
    "    #'max_depth': 6,\n",
    "    'num_parallel_tree':8 ,\n",
    "    'min_child_weight': 2,\n",
    "    #'gamma': 0.046,\n",
    "    #'reg_alpha': 1.39,    \n",
    "}"
   ]
  },
  {
   "cell_type": "code",
   "execution_count": 116,
   "metadata": {
    "collapsed": true
   },
   "outputs": [],
   "source": [
    "dtrain = xgb.DMatrix(data=train, label=np.log1p(retn))\n",
    "dtest = xgb.DMatrix(data=test)"
   ]
  },
  {
   "cell_type": "code",
   "execution_count": 117,
   "metadata": {},
   "outputs": [
    {
     "name": "stdout",
     "output_type": "stream",
     "text": [
      "[0]\ttrain-r2_score:-1057.67+45.5895\ttest-r2_score:-1079.6+145.016\n",
      "[20]\ttrain-r2_score:-644.036+27.7566\ttest-r2_score:-657.411+88.4089\n",
      "[40]\ttrain-r2_score:-399.232+17.2032\ttest-r2_score:-407.539+54.8797\n",
      "[60]\ttrain-r2_score:-250.994+10.8135\ttest-r2_score:-256.227+34.553\n",
      "[80]\ttrain-r2_score:-159.547+6.87373\ttest-r2_score:-162.885+22.0019\n",
      "[100]\ttrain-r2_score:-102.278+4.40611\ttest-r2_score:-104.426+14.1321\n",
      "[120]\ttrain-r2_score:-65.97+2.84268\ttest-r2_score:-67.3637+9.13765\n",
      "[140]\ttrain-r2_score:-42.7175+1.84184\ttest-r2_score:-43.6285+5.93569\n",
      "[160]\ttrain-r2_score:-27.7014+1.19619\ttest-r2_score:-28.302+3.86508\n",
      "[180]\ttrain-r2_score:-17.9384+0.777338\ttest-r2_score:-18.3382+2.51575\n",
      "[200]\ttrain-r2_score:-11.5538+0.504094\ttest-r2_score:-11.8236+1.6318\n",
      "[220]\ttrain-r2_score:-7.35787+0.325502\ttest-r2_score:-7.54458+1.04937\n",
      "[240]\ttrain-r2_score:-4.58897+0.208218\ttest-r2_score:-4.72309+0.664042\n",
      "[260]\ttrain-r2_score:-2.75489+0.131378\ttest-r2_score:-2.85628+0.408556\n",
      "[280]\ttrain-r2_score:-1.53601+0.0809016\ttest-r2_score:-1.61781+0.238787\n",
      "[300]\ttrain-r2_score:-0.723387+0.048062\ttest-r2_score:-0.794313+0.127154\n",
      "[320]\ttrain-r2_score:-0.179929+0.0269796\ttest-r2_score:-0.245962+0.0591591\n",
      "[340]\ttrain-r2_score:0.184553+0.0139706\ttest-r2_score:0.120014+0.0413205\n",
      "[360]\ttrain-r2_score:0.429988+0.00812012\ttest-r2_score:0.364511+0.0601873\n",
      "[380]\ttrain-r2_score:0.595984+0.00823823\ttest-r2_score:0.527984+0.0799536\n",
      "[400]\ttrain-r2_score:0.708727+0.00999794\ttest-r2_score:0.637179+0.0949095\n",
      "[420]\ttrain-r2_score:0.785773+0.0114234\ttest-r2_score:0.710338+0.105923\n",
      "[440]\ttrain-r2_score:0.838876+0.0122641\ttest-r2_score:0.759046+0.11391\n",
      "[460]\ttrain-r2_score:0.875619+0.0125401\ttest-r2_score:0.791992+0.11953\n",
      "[480]\ttrain-r2_score:0.901359+0.0126391\ttest-r2_score:0.813573+0.123927\n",
      "[500]\ttrain-r2_score:0.919659+0.0125182\ttest-r2_score:0.827858+0.127178\n",
      "[520]\ttrain-r2_score:0.93302+0.0121656\ttest-r2_score:0.83673+0.130092\n",
      "[540]\ttrain-r2_score:0.942777+0.0117407\ttest-r2_score:0.842786+0.132116\n",
      "[560]\ttrain-r2_score:0.950113+0.0112123\ttest-r2_score:0.846378+0.133742\n",
      "[580]\ttrain-r2_score:0.95579+0.0106319\ttest-r2_score:0.848557+0.134989\n",
      "[600]\ttrain-r2_score:0.960282+0.0101516\ttest-r2_score:0.849516+0.136311\n",
      "[620]\ttrain-r2_score:0.963866+0.00957236\ttest-r2_score:0.849915+0.137296\n",
      "[640]\ttrain-r2_score:0.966841+0.00908067\ttest-r2_score:0.849554+0.138452\n"
     ]
    }
   ],
   "source": [
    "res = xgb.cv(xgb_params, dtrain, num_boost_round=2000, nfold=5,  stratified=False, feval = xgb_r2,\n",
    "             early_stopping_rounds=25, verbose_eval=100, show_stdv=True,  maximize=True)\n"
   ]
  },
  {
   "cell_type": "code",
   "execution_count": 118,
   "metadata": {},
   "outputs": [
    {
     "name": "stdout",
     "output_type": "stream",
     "text": [
      "xgb-CV: 0.8499464+0.1370017069639645\n"
     ]
    }
   ],
   "source": [
    "best_nrounds = res.shape[0] - 1\n",
    "cv_mean = res.iloc[-1, 0]\n",
    "cv_std = res.iloc[-1, 1]\n",
    "\n",
    "print('xgb-CV: {0}+{1}'.format(cv_mean, cv_std))"
   ]
  },
  {
   "cell_type": "code",
   "execution_count": 119,
   "metadata": {
    "collapsed": true
   },
   "outputs": [],
   "source": [
    "gbdt = xgb.train(xgb_params, dtrain, best_nrounds)"
   ]
  },
  {
   "cell_type": "code",
   "execution_count": 120,
   "metadata": {
    "collapsed": true
   },
   "outputs": [],
   "source": [
    "pred_1 = gbdt.predict(dtest)"
   ]
  },
  {
   "cell_type": "code",
   "execution_count": 121,
   "metadata": {},
   "outputs": [
    {
     "data": {
      "text/html": [
       "<div>\n",
       "<style>\n",
       "    .dataframe thead tr:only-child th {\n",
       "        text-align: right;\n",
       "    }\n",
       "\n",
       "    .dataframe thead th {\n",
       "        text-align: left;\n",
       "    }\n",
       "\n",
       "    .dataframe tbody tr th {\n",
       "        vertical-align: top;\n",
       "    }\n",
       "</style>\n",
       "<table border=\"1\" class=\"dataframe\">\n",
       "  <thead>\n",
       "    <tr style=\"text-align: right;\">\n",
       "      <th></th>\n",
       "      <th>portfolio_id</th>\n",
       "      <th>return</th>\n",
       "    </tr>\n",
       "  </thead>\n",
       "  <tbody>\n",
       "    <tr>\n",
       "      <th>0</th>\n",
       "      <td>PF00001001</td>\n",
       "      <td>0.025977</td>\n",
       "    </tr>\n",
       "    <tr>\n",
       "      <th>1</th>\n",
       "      <td>PF00001004</td>\n",
       "      <td>0.034628</td>\n",
       "    </tr>\n",
       "    <tr>\n",
       "      <th>2</th>\n",
       "      <td>PF00001009</td>\n",
       "      <td>0.024494</td>\n",
       "    </tr>\n",
       "    <tr>\n",
       "      <th>3</th>\n",
       "      <td>PF00001013</td>\n",
       "      <td>0.025515</td>\n",
       "    </tr>\n",
       "    <tr>\n",
       "      <th>4</th>\n",
       "      <td>PF00001014</td>\n",
       "      <td>0.024695</td>\n",
       "    </tr>\n",
       "  </tbody>\n",
       "</table>\n",
       "</div>"
      ],
      "text/plain": [
       "  portfolio_id    return\n",
       "0   PF00001001  0.025977\n",
       "1   PF00001004  0.034628\n",
       "2   PF00001009  0.024494\n",
       "3   PF00001013  0.025515\n",
       "4   PF00001014  0.024695"
      ]
     },
     "execution_count": 121,
     "metadata": {},
     "output_type": "execute_result"
    }
   ],
   "source": [
    "sub1 = pd.DataFrame({'portfolio_id':test_portfolio_id, 'return':np.expm1(pred_1)})\n",
    "sub1.head(5)"
   ]
  },
  {
   "cell_type": "code",
   "execution_count": 122,
   "metadata": {
    "collapsed": true
   },
   "outputs": [],
   "source": [
    "sub1.to_csv('xgb_v2.csv', index=False)"
   ]
  },
  {
   "cell_type": "code",
   "execution_count": 490,
   "metadata": {
    "collapsed": true
   },
   "outputs": [],
   "source": [
    "pred2 = np.expm1(0.6*pred + 0.4*pred_1)"
   ]
  },
  {
   "cell_type": "code",
   "execution_count": 492,
   "metadata": {},
   "outputs": [
    {
     "data": {
      "text/html": [
       "<div>\n",
       "<style>\n",
       "    .dataframe thead tr:only-child th {\n",
       "        text-align: right;\n",
       "    }\n",
       "\n",
       "    .dataframe thead th {\n",
       "        text-align: left;\n",
       "    }\n",
       "\n",
       "    .dataframe tbody tr th {\n",
       "        vertical-align: top;\n",
       "    }\n",
       "</style>\n",
       "<table border=\"1\" class=\"dataframe\">\n",
       "  <thead>\n",
       "    <tr style=\"text-align: right;\">\n",
       "      <th></th>\n",
       "      <th>portfolio_id</th>\n",
       "      <th>return</th>\n",
       "    </tr>\n",
       "  </thead>\n",
       "  <tbody>\n",
       "    <tr>\n",
       "      <th>0</th>\n",
       "      <td>PF00001001</td>\n",
       "      <td>0.027049</td>\n",
       "    </tr>\n",
       "    <tr>\n",
       "      <th>1</th>\n",
       "      <td>PF00001004</td>\n",
       "      <td>0.033083</td>\n",
       "    </tr>\n",
       "    <tr>\n",
       "      <th>2</th>\n",
       "      <td>PF00001009</td>\n",
       "      <td>0.024576</td>\n",
       "    </tr>\n",
       "    <tr>\n",
       "      <th>3</th>\n",
       "      <td>PF00001013</td>\n",
       "      <td>0.026555</td>\n",
       "    </tr>\n",
       "    <tr>\n",
       "      <th>4</th>\n",
       "      <td>PF00001014</td>\n",
       "      <td>0.024326</td>\n",
       "    </tr>\n",
       "  </tbody>\n",
       "</table>\n",
       "</div>"
      ],
      "text/plain": [
       "  portfolio_id    return\n",
       "0   PF00001001  0.027049\n",
       "1   PF00001004  0.033083\n",
       "2   PF00001009  0.024576\n",
       "3   PF00001013  0.026555\n",
       "4   PF00001014  0.024326"
      ]
     },
     "execution_count": 492,
     "metadata": {},
     "output_type": "execute_result"
    }
   ],
   "source": [
    "sub2 = pd.DataFrame({'portfolio_id':test_portfolio_id, 'return':pred2})\n",
    "sub2.head(5)"
   ]
  },
  {
   "cell_type": "code",
   "execution_count": 493,
   "metadata": {
    "collapsed": true
   },
   "outputs": [],
   "source": [
    "sub2.to_csv('lgb_xgb_v1.csv', index=False)"
   ]
  },
  {
   "cell_type": "code",
   "execution_count": null,
   "metadata": {
    "collapsed": true
   },
   "outputs": [],
   "source": []
  }
 ],
 "metadata": {
  "kernelspec": {
   "display_name": "Python 3",
   "language": "python",
   "name": "python3"
  },
  "language_info": {
   "codemirror_mode": {
    "name": "ipython",
    "version": 3
   },
   "file_extension": ".py",
   "mimetype": "text/x-python",
   "name": "python",
   "nbconvert_exporter": "python",
   "pygments_lexer": "ipython3",
   "version": "3.5.2"
  }
 },
 "nbformat": 4,
 "nbformat_minor": 2
}
