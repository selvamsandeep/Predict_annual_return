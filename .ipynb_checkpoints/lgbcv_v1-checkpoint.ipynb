{
 "cells": [
  {
   "cell_type": "code",
   "execution_count": 55,
   "metadata": {},
   "outputs": [
    {
     "name": "stdout",
     "output_type": "stream",
     "text": [
      "sample_submission.csv\n",
      "test.csv\n",
      "train.csv\n",
      "\n"
     ]
    }
   ],
   "source": [
    "import numpy as np\n",
    "import pandas as pd\n",
    "from sklearn.preprocessing import LabelEncoder\n",
    "from sklearn.metrics import  r2_score\n",
    "\n",
    "import lightgbm as lgb\n",
    "import xgboost as xgb\n",
    "from subprocess import check_output\n",
    "print(check_output(['ls','input']).decode('utf8'))"
   ]
  },
  {
   "cell_type": "code",
   "execution_count": 56,
   "metadata": {},
   "outputs": [
    {
     "name": "stdout",
     "output_type": "stream",
     "text": [
      "Train data size: (9366, 18) Test data size: (4801, 17)\n"
     ]
    }
   ],
   "source": [
    "train = pd.read_csv('input/train.csv', parse_dates=['start_date','creation_date','sell_date'])\n",
    "test = pd.read_csv('input/test.csv', parse_dates=['start_date','creation_date','sell_date'])\n",
    "\n",
    "print('Train data size: {} Test data size: {}'.format(train.shape, test.shape))"
   ]
  },
  {
   "cell_type": "code",
   "execution_count": 57,
   "metadata": {
    "collapsed": true
   },
   "outputs": [],
   "source": [
    "train['desk_id'].fillna('DSK00000099', inplace=True)\n",
    "test['desk_id'].fillna('DSK00000099', inplace=True)\n",
    "\n",
    "train['desk_id']=train.desk_id.apply(lambda x : x[-4:]).astype(np.int16)\n",
    "test['desk_id']=test.desk_id.apply(lambda x : x[-4:]).astype(np.int16)"
   ]
  },
  {
   "cell_type": "code",
   "execution_count": 58,
   "metadata": {
    "collapsed": true
   },
   "outputs": [],
   "source": [
    "le = LabelEncoder()\n",
    "le.fit(train['office_id'])\n",
    "train['office_id'] = le.transform(train['office_id'])\n",
    "test['office_id'] = le.transform(test['office_id'])"
   ]
  },
  {
   "cell_type": "code",
   "execution_count": 59,
   "metadata": {
    "collapsed": true
   },
   "outputs": [],
   "source": [
    "le.fit(train['pf_category'])\n",
    "train['pf_category'] = le.transform(train['pf_category'])\n",
    "test['pf_category'] = le.transform(test['pf_category'])"
   ]
  },
  {
   "cell_type": "code",
   "execution_count": 60,
   "metadata": {
    "collapsed": true
   },
   "outputs": [],
   "source": [
    "train['start_creation'] = (train.start_date - train.creation_date).dt.days\n",
    "test['start_creation'] = (test.start_date - test.creation_date).dt.days"
   ]
  },
  {
   "cell_type": "code",
   "execution_count": 61,
   "metadata": {
    "collapsed": true
   },
   "outputs": [],
   "source": [
    "train['start_sell'] = (train.start_date - train.sell_date).dt.days\n",
    "test['start_sell'] = (test.start_date - test.sell_date).dt.days"
   ]
  },
  {
   "cell_type": "code",
   "execution_count": 62,
   "metadata": {
    "collapsed": true
   },
   "outputs": [],
   "source": [
    "#train['creation_sell'] = np.abs(train.creation_date - train.sell_date).dt.days\n",
    "#test['creation_sell'] = np.abs(test.creation_date - test.sell_date).dt.days"
   ]
  },
  {
   "cell_type": "code",
   "execution_count": 63,
   "metadata": {
    "collapsed": true
   },
   "outputs": [],
   "source": [
    "train['sold'].fillna(68552000.0, inplace= True)\n",
    "train['bought'].fillna(68427270.0, inplace= True)"
   ]
  },
  {
   "cell_type": "code",
   "execution_count": 64,
   "metadata": {
    "collapsed": true
   },
   "outputs": [],
   "source": [
    "train['dff_sold_bought'] = (train.sold - train.bought)\n",
    "test['dff_sold_bought'] = (test.sold - test.bought)"
   ]
  },
  {
   "cell_type": "code",
   "execution_count": 65,
   "metadata": {
    "collapsed": true
   },
   "outputs": [],
   "source": [
    "#train['gain_loss'] = train.dff_sold_bought * train.euribor_rate \n",
    "#test['gain_loss'] = test.dff_sold_bought * test.euribor_rate "
   ]
  },
  {
   "cell_type": "code",
   "execution_count": 66,
   "metadata": {
    "collapsed": true
   },
   "outputs": [],
   "source": [
    "train.drop(['start_date','creation_date', 'sell_date'], inplace=True, axis=1)\n",
    "test.drop(['start_date','creation_date', 'sell_date'], inplace=True, axis=1)"
   ]
  },
  {
   "cell_type": "code",
   "execution_count": 67,
   "metadata": {
    "collapsed": true
   },
   "outputs": [],
   "source": [
    "le.fit(train['country_code'])\n",
    "train['country_code'] = le.transform(train['country_code'])\n",
    "test['country_code'] = le.transform(test['country_code'])"
   ]
  },
  {
   "cell_type": "code",
   "execution_count": 68,
   "metadata": {
    "collapsed": true
   },
   "outputs": [],
   "source": [
    "le.fit(train['currency'])\n",
    "train['currency'] = le.transform(train['currency'])\n",
    "test['currency'] = le.transform(test['currency'])"
   ]
  },
  {
   "cell_type": "code",
   "execution_count": 69,
   "metadata": {
    "collapsed": true
   },
   "outputs": [],
   "source": [
    "train['libor_rate'].fillna(0.0, inplace= True)\n",
    "test['libor_rate'].fillna(0.0, inplace=True)"
   ]
  },
  {
   "cell_type": "code",
   "execution_count": 70,
   "metadata": {
    "collapsed": true
   },
   "outputs": [],
   "source": [
    "train['indicator_code'].fillna(False, inplace= True)\n",
    "test['indicator_code'].fillna(False, inplace= True)\n",
    "\n",
    "le.fit(train['indicator_code'])\n",
    "train['indicator_code'] = le.transform(train['indicator_code'])\n",
    "test['indicator_code'] = le.transform(test['indicator_code'])"
   ]
  },
  {
   "cell_type": "code",
   "execution_count": 71,
   "metadata": {
    "collapsed": true
   },
   "outputs": [],
   "source": [
    "le.fit(train['type'])\n",
    "train['type'] = le.transform(train['type'])\n",
    "test['type'] = le.transform(test['type'])"
   ]
  },
  {
   "cell_type": "code",
   "execution_count": 72,
   "metadata": {
    "collapsed": true
   },
   "outputs": [],
   "source": [
    "train['hedge_value'].fillna(False, inplace=True)\n",
    "test['hedge_value'].fillna(False, inplace=True)\n",
    "\n",
    "train['hedge_value'] = train['hedge_value'].map({False:0, True:1})\n",
    "test['hedge_value'] = test['hedge_value'].map({False:0, True:1})"
   ]
  },
  {
   "cell_type": "code",
   "execution_count": 73,
   "metadata": {
    "collapsed": true
   },
   "outputs": [],
   "source": [
    "train['status'].fillna(False, inplace= True)\n",
    "test['status'].fillna(False, inplace= True)\n",
    "\n",
    "train['status'] = train['status'].map({False:0, True:1})\n",
    "train['status'] = train['status'].map({False:0, True:1})"
   ]
  },
  {
   "cell_type": "code",
   "execution_count": 74,
   "metadata": {},
   "outputs": [],
   "source": [
    "retn = train['return']\n",
    "test_portfolio_id = test.portfolio_id.values\n",
    "\n",
    "train.drop(['portfolio_id','bought', 'type', 'return'], inplace=True, axis=1)\n",
    "test.drop(['portfolio_id','bought', 'type'], inplace=True, axis=1)"
   ]
  },
  {
   "cell_type": "code",
   "execution_count": 87,
   "metadata": {
    "collapsed": true
   },
   "outputs": [],
   "source": [
    "params = {'learning_rate': 0.02, \n",
    "          'num_leaves':78,\n",
    "          'min_data_in_leaf': 160,\n",
    "          'max_depth': 12, \n",
    "          'colsample_bytree': 0.522,\n",
    "          'boosting': 'gbdt', \n",
    "          'application': 'regression', \n",
    "          'metric': 'mae',  \n",
    "          'verbosity': -1,\n",
    "          'seed': 32}"
   ]
  },
  {
   "cell_type": "code",
   "execution_count": 88,
   "metadata": {
    "collapsed": true
   },
   "outputs": [],
   "source": [
    "lgb_train = lgb.Dataset(train, label=np.log1p(retn))"
   ]
  },
  {
   "cell_type": "code",
   "execution_count": 93,
   "metadata": {},
   "outputs": [
    {
     "name": "stdout",
     "output_type": "stream",
     "text": [
      "[20]\tcv_agg's l1: 0.00975097 + 8.86842e-05\n",
      "[40]\tcv_agg's l1: 0.00691001 + 7.82472e-05\n",
      "[60]\tcv_agg's l1: 0.00513465 + 7.82855e-05\n",
      "[80]\tcv_agg's l1: 0.00395018 + 8.20111e-05\n",
      "[100]\tcv_agg's l1: 0.00311514 + 8.94672e-05\n",
      "[120]\tcv_agg's l1: 0.00258169 + 8.88756e-05\n",
      "[140]\tcv_agg's l1: 0.00220314 + 9.42904e-05\n",
      "[160]\tcv_agg's l1: 0.00197024 + 9.16449e-05\n",
      "[180]\tcv_agg's l1: 0.00182604 + 8.88876e-05\n",
      "[200]\tcv_agg's l1: 0.00173286 + 8.85486e-05\n",
      "[220]\tcv_agg's l1: 0.00168375 + 8.88603e-05\n",
      "[240]\tcv_agg's l1: 0.00163989 + 8.75692e-05\n",
      "[260]\tcv_agg's l1: 0.00160298 + 8.79129e-05\n",
      "[280]\tcv_agg's l1: 0.00157484 + 8.89602e-05\n",
      "[300]\tcv_agg's l1: 0.0015509 + 8.92622e-05\n",
      "[320]\tcv_agg's l1: 0.00153007 + 8.99209e-05\n",
      "[340]\tcv_agg's l1: 0.00151212 + 8.9069e-05\n",
      "[360]\tcv_agg's l1: 0.00149036 + 8.91713e-05\n",
      "[380]\tcv_agg's l1: 0.00147495 + 9.16905e-05\n",
      "[400]\tcv_agg's l1: 0.00145979 + 9.09037e-05\n",
      "[420]\tcv_agg's l1: 0.00144374 + 9.3571e-05\n",
      "[440]\tcv_agg's l1: 0.00143009 + 9.24275e-05\n",
      "[460]\tcv_agg's l1: 0.001422 + 9.2745e-05\n",
      "[480]\tcv_agg's l1: 0.00141077 + 9.37466e-05\n",
      "[500]\tcv_agg's l1: 0.00140266 + 9.23826e-05\n",
      "[520]\tcv_agg's l1: 0.0013943 + 9.24895e-05\n",
      "[540]\tcv_agg's l1: 0.00138703 + 9.30632e-05\n",
      "[560]\tcv_agg's l1: 0.00137953 + 9.22226e-05\n",
      "[580]\tcv_agg's l1: 0.0013719 + 9.31128e-05\n",
      "[600]\tcv_agg's l1: 0.00136274 + 9.33452e-05\n",
      "[620]\tcv_agg's l1: 0.00135775 + 9.312e-05\n",
      "[640]\tcv_agg's l1: 0.00135237 + 9.34307e-05\n",
      "[660]\tcv_agg's l1: 0.00134464 + 9.47815e-05\n",
      "[680]\tcv_agg's l1: 0.00134024 + 9.4918e-05\n",
      "[700]\tcv_agg's l1: 0.00133483 + 9.5075e-05\n",
      "[720]\tcv_agg's l1: 0.00133002 + 9.48315e-05\n",
      "[740]\tcv_agg's l1: 0.00132462 + 9.48418e-05\n",
      "[760]\tcv_agg's l1: 0.00132068 + 9.5014e-05\n",
      "[780]\tcv_agg's l1: 0.00131686 + 9.46363e-05\n",
      "[800]\tcv_agg's l1: 0.00131178 + 9.52056e-05\n",
      "[820]\tcv_agg's l1: 0.00130919 + 9.4615e-05\n",
      "[840]\tcv_agg's l1: 0.00130532 + 9.52361e-05\n",
      "[860]\tcv_agg's l1: 0.00130236 + 9.52373e-05\n",
      "[880]\tcv_agg's l1: 0.00129981 + 9.48085e-05\n",
      "[900]\tcv_agg's l1: 0.00129842 + 9.44638e-05\n",
      "[920]\tcv_agg's l1: 0.00129657 + 9.37913e-05\n",
      "[940]\tcv_agg's l1: 0.00129398 + 9.26028e-05\n",
      "[960]\tcv_agg's l1: 0.00129126 + 9.23846e-05\n",
      "[980]\tcv_agg's l1: 0.00128872 + 9.26235e-05\n",
      "[1000]\tcv_agg's l1: 0.00128586 + 9.24527e-05\n",
      "[1020]\tcv_agg's l1: 0.00128328 + 9.28165e-05\n",
      "[1040]\tcv_agg's l1: 0.00128127 + 9.30182e-05\n",
      "[1060]\tcv_agg's l1: 0.00127942 + 9.27315e-05\n",
      "[1080]\tcv_agg's l1: 0.00127698 + 9.23061e-05\n",
      "[1100]\tcv_agg's l1: 0.00127547 + 9.18741e-05\n",
      "[1120]\tcv_agg's l1: 0.00127315 + 9.17515e-05\n",
      "[1140]\tcv_agg's l1: 0.00127047 + 9.16858e-05\n",
      "[1160]\tcv_agg's l1: 0.00126733 + 9.12007e-05\n",
      "[1180]\tcv_agg's l1: 0.00126527 + 9.15762e-05\n",
      "[1200]\tcv_agg's l1: 0.00126277 + 9.09598e-05\n",
      "[1220]\tcv_agg's l1: 0.00126183 + 9.14388e-05\n",
      "[1240]\tcv_agg's l1: 0.00126013 + 9.16389e-05\n",
      "[1260]\tcv_agg's l1: 0.00125875 + 9.11089e-05\n",
      "[1280]\tcv_agg's l1: 0.00125597 + 9.11266e-05\n",
      "[1300]\tcv_agg's l1: 0.00125399 + 9.08146e-05\n",
      "[1320]\tcv_agg's l1: 0.00125222 + 9.05823e-05\n",
      "[1340]\tcv_agg's l1: 0.00125099 + 9.02634e-05\n",
      "[1360]\tcv_agg's l1: 0.00124989 + 8.96729e-05\n",
      "[1380]\tcv_agg's l1: 0.00124844 + 8.91338e-05\n",
      "[1400]\tcv_agg's l1: 0.00124565 + 8.97198e-05\n",
      "[1420]\tcv_agg's l1: 0.00124367 + 8.94006e-05\n",
      "[1440]\tcv_agg's l1: 0.00124173 + 8.90045e-05\n",
      "[1460]\tcv_agg's l1: 0.0012407 + 8.89868e-05\n",
      "[1480]\tcv_agg's l1: 0.00123955 + 8.84038e-05\n",
      "[1500]\tcv_agg's l1: 0.00123806 + 8.77946e-05\n",
      "[1520]\tcv_agg's l1: 0.00123693 + 8.7793e-05\n",
      "[1540]\tcv_agg's l1: 0.00123515 + 8.76815e-05\n",
      "[1560]\tcv_agg's l1: 0.00123467 + 8.82859e-05\n",
      "[1580]\tcv_agg's l1: 0.00123367 + 8.85519e-05\n",
      "[1600]\tcv_agg's l1: 0.00123318 + 8.80984e-05\n",
      "[1620]\tcv_agg's l1: 0.00123278 + 8.78908e-05\n",
      "[1640]\tcv_agg's l1: 0.00123255 + 8.68758e-05\n",
      "[1660]\tcv_agg's l1: 0.00123091 + 8.61398e-05\n",
      "[1680]\tcv_agg's l1: 0.00122914 + 8.62409e-05\n",
      "[1700]\tcv_agg's l1: 0.00122826 + 8.68991e-05\n",
      "[1720]\tcv_agg's l1: 0.0012276 + 8.7392e-05\n",
      "[1740]\tcv_agg's l1: 0.00122722 + 8.64512e-05\n",
      "[1760]\tcv_agg's l1: 0.00122606 + 8.59402e-05\n",
      "[1780]\tcv_agg's l1: 0.00122595 + 8.50024e-05\n",
      "[1800]\tcv_agg's l1: 0.0012255 + 8.48426e-05\n",
      "[1820]\tcv_agg's l1: 0.00122556 + 8.36754e-05\n"
     ]
    }
   ],
   "source": [
    "lgb_cv = lgb.cv(params, lgb_train, num_boost_round=10000, nfold= 5, stratified=False,\n",
    "                 verbose_eval=20, early_stopping_rounds=40)"
   ]
  },
  {
   "cell_type": "code",
   "execution_count": 94,
   "metadata": {},
   "outputs": [
    {
     "name": "stdout",
     "output_type": "stream",
     "text": [
      "1796\n"
     ]
    }
   ],
   "source": [
    "nround = lgb_cv['l1-mean'].index(np.min(lgb_cv['l1-mean']))\n",
    "print(nround)"
   ]
  },
  {
   "cell_type": "code",
   "execution_count": 95,
   "metadata": {
    "collapsed": true
   },
   "outputs": [],
   "source": [
    "model = lgb.train(params, lgb_train, num_boost_round=nround)"
   ]
  },
  {
   "cell_type": "code",
   "execution_count": 96,
   "metadata": {},
   "outputs": [
    {
     "data": {
      "text/plain": [
       "0.85320424373033599"
      ]
     },
     "execution_count": 96,
     "metadata": {},
     "output_type": "execute_result"
    }
   ],
   "source": [
    "r2_score(retn, np.expm1(model.predict(train)))"
   ]
  },
  {
   "cell_type": "code",
   "execution_count": 97,
   "metadata": {
    "collapsed": true
   },
   "outputs": [],
   "source": [
    "pred = model.predict(test)"
   ]
  },
  {
   "cell_type": "code",
   "execution_count": 98,
   "metadata": {},
   "outputs": [
    {
     "data": {
      "text/html": [
       "<div>\n",
       "<style>\n",
       "    .dataframe thead tr:only-child th {\n",
       "        text-align: right;\n",
       "    }\n",
       "\n",
       "    .dataframe thead th {\n",
       "        text-align: left;\n",
       "    }\n",
       "\n",
       "    .dataframe tbody tr th {\n",
       "        vertical-align: top;\n",
       "    }\n",
       "</style>\n",
       "<table border=\"1\" class=\"dataframe\">\n",
       "  <thead>\n",
       "    <tr style=\"text-align: right;\">\n",
       "      <th></th>\n",
       "      <th>portfolio_id</th>\n",
       "      <th>return</th>\n",
       "    </tr>\n",
       "  </thead>\n",
       "  <tbody>\n",
       "    <tr>\n",
       "      <th>0</th>\n",
       "      <td>PF00001001</td>\n",
       "      <td>0.028845</td>\n",
       "    </tr>\n",
       "    <tr>\n",
       "      <th>1</th>\n",
       "      <td>PF00001004</td>\n",
       "      <td>0.033722</td>\n",
       "    </tr>\n",
       "    <tr>\n",
       "      <th>2</th>\n",
       "      <td>PF00001009</td>\n",
       "      <td>0.024596</td>\n",
       "    </tr>\n",
       "    <tr>\n",
       "      <th>3</th>\n",
       "      <td>PF00001013</td>\n",
       "      <td>0.026988</td>\n",
       "    </tr>\n",
       "    <tr>\n",
       "      <th>4</th>\n",
       "      <td>PF00001014</td>\n",
       "      <td>0.023472</td>\n",
       "    </tr>\n",
       "  </tbody>\n",
       "</table>\n",
       "</div>"
      ],
      "text/plain": [
       "  portfolio_id    return\n",
       "0   PF00001001  0.028845\n",
       "1   PF00001004  0.033722\n",
       "2   PF00001009  0.024596\n",
       "3   PF00001013  0.026988\n",
       "4   PF00001014  0.023472"
      ]
     },
     "execution_count": 98,
     "metadata": {},
     "output_type": "execute_result"
    }
   ],
   "source": [
    "sub = pd.DataFrame({'portfolio_id':test_portfolio_id, 'return':np.expm1(pred)})\n",
    "sub.head(5)"
   ]
  },
  {
   "cell_type": "code",
   "execution_count": 99,
   "metadata": {
    "collapsed": true
   },
   "outputs": [],
   "source": [
    "sub.to_csv('lgb_v2.csv', index=False)"
   ]
  },
  {
   "cell_type": "code",
   "execution_count": 100,
   "metadata": {
    "collapsed": true
   },
   "outputs": [],
   "source": [
    "def xgb_r2(pred, drain):\n",
    "    y = list(drain.get_label())\n",
    "    score = r2_score(y, np.expm1(pred))\n",
    "    return 'r2_score', score\n",
    "    "
   ]
  },
  {
   "cell_type": "code",
   "execution_count": 101,
   "metadata": {
    "collapsed": true
   },
   "outputs": [],
   "source": [
    "xgb_params = {\n",
    "    'seed': 4,\n",
    "    'colsample_bytree': 0.73,\n",
    "    'silent': 1,\n",
    "    'subsample': 0.63,\n",
    "    'learning_rate': 0.01,\n",
    "    'objective':'reg:linear',    \n",
    "    'max_depth': 7,\n",
    "    'num_parallel_tree':8 ,\n",
    "    'min_child_weight': 2,\n",
    "    #'gamma': 0.046,\n",
    "    #'reg_alpha': 1.39,    \n",
    "}"
   ]
  },
  {
   "cell_type": "code",
   "execution_count": 102,
   "metadata": {
    "collapsed": true
   },
   "outputs": [],
   "source": [
    "dtrain = xgb.DMatrix(data=train, label=np.log1p(retn))\n",
    "dtest = xgb.DMatrix(data=test)"
   ]
  },
  {
   "cell_type": "code",
   "execution_count": 103,
   "metadata": {},
   "outputs": [
    {
     "name": "stdout",
     "output_type": "stream",
     "text": [
      "[0]\ttrain-r2_score:-1057.66+45.5899\ttest-r2_score:-1079.6+145.014\n",
      "[20]\ttrain-r2_score:-644.027+27.7589\ttest-r2_score:-657.404+88.4058\n",
      "[40]\ttrain-r2_score:-399.219+17.2041\ttest-r2_score:-407.525+54.8704\n",
      "[60]\ttrain-r2_score:-250.984+10.815\ttest-r2_score:-256.217+34.5452\n",
      "[80]\ttrain-r2_score:-159.544+6.87123\ttest-r2_score:-162.88+21.9985\n",
      "[100]\ttrain-r2_score:-102.279+4.40321\ttest-r2_score:-104.426+14.1313\n",
      "[120]\ttrain-r2_score:-65.973+2.83992\ttest-r2_score:-67.3654+9.13772\n",
      "[140]\ttrain-r2_score:-42.7192+1.84063\ttest-r2_score:-43.6295+5.93538\n",
      "[160]\ttrain-r2_score:-27.7025+1.19594\ttest-r2_score:-28.303+3.86464\n",
      "[180]\ttrain-r2_score:-17.9395+0.777276\ttest-r2_score:-18.3391+2.51526\n",
      "[200]\ttrain-r2_score:-11.5541+0.504251\ttest-r2_score:-11.8239+1.63034\n",
      "[220]\ttrain-r2_score:-7.35803+0.325444\ttest-r2_score:-7.54363+1.04751\n",
      "[240]\ttrain-r2_score:-4.58883+0.208328\ttest-r2_score:-4.72149+0.662229\n",
      "[260]\ttrain-r2_score:-2.75487+0.131274\ttest-r2_score:-2.85441+0.406629\n",
      "[280]\ttrain-r2_score:-1.53578+0.0810099\ttest-r2_score:-1.61551+0.236794\n",
      "[300]\ttrain-r2_score:-0.723067+0.0482141\ttest-r2_score:-0.791835+0.125115\n",
      "[320]\ttrain-r2_score:-0.179612+0.0270894\ttest-r2_score:-0.243044+0.0566637\n",
      "[340]\ttrain-r2_score:0.185086+0.014179\ttest-r2_score:0.122884+0.0394023\n",
      "[360]\ttrain-r2_score:0.430715+0.00816401\ttest-r2_score:0.367408+0.0592539\n",
      "[380]\ttrain-r2_score:0.596765+0.00788062\ttest-r2_score:0.531304+0.0793109\n",
      "[400]\ttrain-r2_score:0.709429+0.00970739\ttest-r2_score:0.640981+0.094432\n",
      "[420]\ttrain-r2_score:0.786475+0.0112485\ttest-r2_score:0.714391+0.105329\n",
      "[440]\ttrain-r2_score:0.839497+0.0122385\ttest-r2_score:0.763335+0.113182\n",
      "[460]\ttrain-r2_score:0.876299+0.0127689\ttest-r2_score:0.795841+0.118981\n",
      "[480]\ttrain-r2_score:0.901995+0.0128916\ttest-r2_score:0.817414+0.123254\n",
      "[500]\ttrain-r2_score:0.920322+0.0129351\ttest-r2_score:0.830921+0.126944\n",
      "[520]\ttrain-r2_score:0.933661+0.0126579\ttest-r2_score:0.839966+0.1296\n",
      "[540]\ttrain-r2_score:0.943473+0.0122289\ttest-r2_score:0.845807+0.131658\n",
      "[560]\ttrain-r2_score:0.950883+0.0117241\ttest-r2_score:0.849539+0.133242\n",
      "[580]\ttrain-r2_score:0.956593+0.0112884\ttest-r2_score:0.851187+0.134932\n",
      "[600]\ttrain-r2_score:0.961091+0.0107749\ttest-r2_score:0.851865+0.136343\n",
      "[620]\ttrain-r2_score:0.96471+0.0103326\ttest-r2_score:0.851525+0.137864\n"
     ]
    }
   ],
   "source": [
    "res = xgb.cv(xgb_params, dtrain, num_boost_round=2000, nfold=5,  stratified=False, feval = xgb_r2,\n",
    "             early_stopping_rounds=25, verbose_eval=20, show_stdv=True,  maximize=True)\n"
   ]
  },
  {
   "cell_type": "code",
   "execution_count": 104,
   "metadata": {},
   "outputs": [
    {
     "name": "stdout",
     "output_type": "stream",
     "text": [
      "xgb-CV: 0.8519137999999999+0.13659603561070136\n"
     ]
    }
   ],
   "source": [
    "best_nrounds = res.shape[0] - 1\n",
    "cv_mean = res.iloc[-1, 0]\n",
    "cv_std = res.iloc[-1, 1]\n",
    "\n",
    "print('xgb-CV: {0}+{1}'.format(cv_mean, cv_std))"
   ]
  },
  {
   "cell_type": "code",
   "execution_count": 105,
   "metadata": {
    "collapsed": true
   },
   "outputs": [],
   "source": [
    "gbdt = xgb.train(xgb_params, dtrain, best_nrounds)"
   ]
  },
  {
   "cell_type": "code",
   "execution_count": 106,
   "metadata": {
    "collapsed": true
   },
   "outputs": [],
   "source": [
    "pred_1 = gbdt.predict(dtest)"
   ]
  },
  {
   "cell_type": "code",
   "execution_count": 107,
   "metadata": {},
   "outputs": [
    {
     "data": {
      "text/html": [
       "<div>\n",
       "<style>\n",
       "    .dataframe thead tr:only-child th {\n",
       "        text-align: right;\n",
       "    }\n",
       "\n",
       "    .dataframe thead th {\n",
       "        text-align: left;\n",
       "    }\n",
       "\n",
       "    .dataframe tbody tr th {\n",
       "        vertical-align: top;\n",
       "    }\n",
       "</style>\n",
       "<table border=\"1\" class=\"dataframe\">\n",
       "  <thead>\n",
       "    <tr style=\"text-align: right;\">\n",
       "      <th></th>\n",
       "      <th>portfolio_id</th>\n",
       "      <th>return</th>\n",
       "    </tr>\n",
       "  </thead>\n",
       "  <tbody>\n",
       "    <tr>\n",
       "      <th>0</th>\n",
       "      <td>PF00001001</td>\n",
       "      <td>0.026341</td>\n",
       "    </tr>\n",
       "    <tr>\n",
       "      <th>1</th>\n",
       "      <td>PF00001004</td>\n",
       "      <td>0.032002</td>\n",
       "    </tr>\n",
       "    <tr>\n",
       "      <th>2</th>\n",
       "      <td>PF00001009</td>\n",
       "      <td>0.025321</td>\n",
       "    </tr>\n",
       "    <tr>\n",
       "      <th>3</th>\n",
       "      <td>PF00001013</td>\n",
       "      <td>0.025911</td>\n",
       "    </tr>\n",
       "    <tr>\n",
       "      <th>4</th>\n",
       "      <td>PF00001014</td>\n",
       "      <td>0.024794</td>\n",
       "    </tr>\n",
       "  </tbody>\n",
       "</table>\n",
       "</div>"
      ],
      "text/plain": [
       "  portfolio_id    return\n",
       "0   PF00001001  0.026341\n",
       "1   PF00001004  0.032002\n",
       "2   PF00001009  0.025321\n",
       "3   PF00001013  0.025911\n",
       "4   PF00001014  0.024794"
      ]
     },
     "execution_count": 107,
     "metadata": {},
     "output_type": "execute_result"
    }
   ],
   "source": [
    "sub1 = pd.DataFrame({'portfolio_id':test_portfolio_id, 'return':np.expm1(pred_1)})\n",
    "sub1.head(5)"
   ]
  },
  {
   "cell_type": "code",
   "execution_count": 108,
   "metadata": {
    "collapsed": true
   },
   "outputs": [],
   "source": [
    "sub1.to_csv('xgb_v1.csv', index=False)"
   ]
  },
  {
   "cell_type": "code",
   "execution_count": 112,
   "metadata": {
    "collapsed": true
   },
   "outputs": [],
   "source": [
    "pred2 = np.expm1(0.7*pred + 0.3*pred_1)"
   ]
  },
  {
   "cell_type": "code",
   "execution_count": 113,
   "metadata": {},
   "outputs": [
    {
     "data": {
      "text/html": [
       "<div>\n",
       "<style>\n",
       "    .dataframe thead tr:only-child th {\n",
       "        text-align: right;\n",
       "    }\n",
       "\n",
       "    .dataframe thead th {\n",
       "        text-align: left;\n",
       "    }\n",
       "\n",
       "    .dataframe tbody tr th {\n",
       "        vertical-align: top;\n",
       "    }\n",
       "</style>\n",
       "<table border=\"1\" class=\"dataframe\">\n",
       "  <thead>\n",
       "    <tr style=\"text-align: right;\">\n",
       "      <th></th>\n",
       "      <th>portfolio_id</th>\n",
       "      <th>return</th>\n",
       "    </tr>\n",
       "  </thead>\n",
       "  <tbody>\n",
       "    <tr>\n",
       "      <th>0</th>\n",
       "      <td>PF00001001</td>\n",
       "      <td>0.028093</td>\n",
       "    </tr>\n",
       "    <tr>\n",
       "      <th>1</th>\n",
       "      <td>PF00001004</td>\n",
       "      <td>0.033205</td>\n",
       "    </tr>\n",
       "    <tr>\n",
       "      <th>2</th>\n",
       "      <td>PF00001009</td>\n",
       "      <td>0.024813</td>\n",
       "    </tr>\n",
       "    <tr>\n",
       "      <th>3</th>\n",
       "      <td>PF00001013</td>\n",
       "      <td>0.026665</td>\n",
       "    </tr>\n",
       "    <tr>\n",
       "      <th>4</th>\n",
       "      <td>PF00001014</td>\n",
       "      <td>0.023868</td>\n",
       "    </tr>\n",
       "  </tbody>\n",
       "</table>\n",
       "</div>"
      ],
      "text/plain": [
       "  portfolio_id    return\n",
       "0   PF00001001  0.028093\n",
       "1   PF00001004  0.033205\n",
       "2   PF00001009  0.024813\n",
       "3   PF00001013  0.026665\n",
       "4   PF00001014  0.023868"
      ]
     },
     "execution_count": 113,
     "metadata": {},
     "output_type": "execute_result"
    }
   ],
   "source": [
    "sub2 = pd.DataFrame({'portfolio_id':test_portfolio_id, 'return':pred2})\n",
    "sub2.head(5)"
   ]
  },
  {
   "cell_type": "code",
   "execution_count": 114,
   "metadata": {
    "collapsed": true
   },
   "outputs": [],
   "source": [
    "sub2.to_csv('lgb_xgb_v2.csv', index=False)"
   ]
  },
  {
   "cell_type": "code",
   "execution_count": null,
   "metadata": {
    "collapsed": true
   },
   "outputs": [],
   "source": []
  }
 ],
 "metadata": {
  "kernelspec": {
   "display_name": "Python 3",
   "language": "python",
   "name": "python3"
  },
  "language_info": {
   "codemirror_mode": {
    "name": "ipython",
    "version": 3
   },
   "file_extension": ".py",
   "mimetype": "text/x-python",
   "name": "python",
   "nbconvert_exporter": "python",
   "pygments_lexer": "ipython3",
   "version": "3.5.2"
  }
 },
 "nbformat": 4,
 "nbformat_minor": 2
}
