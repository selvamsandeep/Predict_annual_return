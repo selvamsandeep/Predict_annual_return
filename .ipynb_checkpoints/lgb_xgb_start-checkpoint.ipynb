{
 "cells": [
  {
   "cell_type": "code",
   "execution_count": 438,
   "metadata": {},
   "outputs": [
    {
     "name": "stdout",
     "output_type": "stream",
     "text": [
      "sample_submission.csv\n",
      "test.csv\n",
      "train.csv\n",
      "\n"
     ]
    },
    {
     "name": "stderr",
     "output_type": "stream",
     "text": [
      "/usr/local/lib/python3.5/dist-packages/sklearn/cross_validation.py:41: DeprecationWarning: This module was deprecated in version 0.18 in favor of the model_selection module into which all the refactored classes and functions are moved. Also note that the interface of the new CV iterators are different from that of this module. This module will be removed in 0.20.\n",
      "  \"This module will be removed in 0.20.\", DeprecationWarning)\n"
     ]
    }
   ],
   "source": [
    "import numpy as np\n",
    "import pandas as pd\n",
    "from sklearn.preprocessing import LabelEncoder\n",
    "from sklearn.metrics import  r2_score\n",
    "\n",
    "import lightgbm as lgb\n",
    "import xgboost as xgb\n",
    "from subprocess import check_output\n",
    "print(check_output(['ls','input']).decode('utf8'))"
   ]
  },
  {
   "cell_type": "code",
   "execution_count": 343,
   "metadata": {},
   "outputs": [
    {
     "name": "stdout",
     "output_type": "stream",
     "text": [
      "Train data size: (9366, 18) Test data size: (4801, 17)\n"
     ]
    }
   ],
   "source": [
    "train = pd.read_csv('input/train.csv', parse_dates=['start_date','creation_date','sell_date'])\n",
    "test = pd.read_csv('input/test.csv', parse_dates=['start_date','creation_date','sell_date'])\n",
    "\n",
    "print('Train data size: {} Test data size: {}'.format(train.shape, test.shape))"
   ]
  },
  {
   "cell_type": "code",
   "execution_count": 344,
   "metadata": {},
   "outputs": [],
   "source": [
    "train['desk_id'].fillna('DSK00000099', inplace=True)\n",
    "test['desk_id'].fillna('DSK00000099', inplace=True)\n",
    "\n",
    "train['desk_id']=train.desk_id.apply(lambda x : x[-4:]).astype(np.int16)\n",
    "test['desk_id']=test.desk_id.apply(lambda x : x[-4:]).astype(np.int16)"
   ]
  },
  {
   "cell_type": "code",
   "execution_count": 345,
   "metadata": {},
   "outputs": [],
   "source": [
    "le = LabelEncoder()\n",
    "le.fit(train['office_id'])\n",
    "train['office_id'] = le.transform(train['office_id'])\n",
    "test['office_id'] = le.transform(test['office_id'])"
   ]
  },
  {
   "cell_type": "code",
   "execution_count": 346,
   "metadata": {},
   "outputs": [],
   "source": [
    "le.fit(train['pf_category'])\n",
    "train['pf_category'] = le.transform(train['pf_category'])\n",
    "test['pf_category'] = le.transform(test['pf_category'])"
   ]
  },
  {
   "cell_type": "code",
   "execution_count": 347,
   "metadata": {},
   "outputs": [],
   "source": [
    "train['start_creation'] = np.abs(train.start_date - train.creation_date).dt.days\n",
    "test['start_creation'] = np.abs(test.start_date - test.creation_date).dt.days"
   ]
  },
  {
   "cell_type": "code",
   "execution_count": 348,
   "metadata": {},
   "outputs": [],
   "source": [
    "train['start_sell'] = np.abs(train.start_date - train.sell_date).dt.days\n",
    "test['start_sell'] = np.abs(test.start_date - test.sell_date).dt.days"
   ]
  },
  {
   "cell_type": "code",
   "execution_count": 349,
   "metadata": {
    "collapsed": true
   },
   "outputs": [],
   "source": [
    "#train['creation_sell'] = np.abs(train.creation_date - train.sell_date).dt.days\n",
    "#test['creation_sell'] = np.abs(test.creation_date - test.sell_date).dt.days"
   ]
  },
  {
   "cell_type": "code",
   "execution_count": 350,
   "metadata": {},
   "outputs": [],
   "source": [
    "train['sold'].fillna(68552000.0, inplace= True)\n",
    "train['bought'].fillna(68427270.0, inplace= True)"
   ]
  },
  {
   "cell_type": "code",
   "execution_count": 351,
   "metadata": {},
   "outputs": [],
   "source": [
    "train['dff_sold_bought'] = np.abs(train.sold - train.bought)\n",
    "test['dff_sold_bought'] = np.abs(test.sold - test.bought)"
   ]
  },
  {
   "cell_type": "code",
   "execution_count": 352,
   "metadata": {},
   "outputs": [],
   "source": [
    "#train['gain_loss'] = train.dff_sold_bought * train.euribor_rate \n",
    "#test['gain_loss'] = test.dff_sold_bought * test.euribor_rate "
   ]
  },
  {
   "cell_type": "code",
   "execution_count": 353,
   "metadata": {
    "collapsed": true
   },
   "outputs": [],
   "source": [
    "train.drop(['start_date','creation_date', 'sell_date'], inplace=True, axis=1)\n",
    "test.drop(['start_date','creation_date', 'sell_date'], inplace=True, axis=1)"
   ]
  },
  {
   "cell_type": "code",
   "execution_count": 354,
   "metadata": {
    "collapsed": true
   },
   "outputs": [],
   "source": [
    "le.fit(train['country_code'])\n",
    "train['country_code'] = le.transform(train['country_code'])\n",
    "test['country_code'] = le.transform(test['country_code'])"
   ]
  },
  {
   "cell_type": "code",
   "execution_count": 355,
   "metadata": {},
   "outputs": [],
   "source": [
    "le.fit(train['currency'])\n",
    "train['currency'] = le.transform(train['currency'])\n",
    "test['currency'] = le.transform(test['currency'])"
   ]
  },
  {
   "cell_type": "code",
   "execution_count": 356,
   "metadata": {},
   "outputs": [],
   "source": [
    "train['libor_rate'].fillna(0.0, inplace= True)\n",
    "test['libor_rate'].fillna(0.0, inplace=True)"
   ]
  },
  {
   "cell_type": "code",
   "execution_count": 357,
   "metadata": {},
   "outputs": [],
   "source": [
    "train['indicator_code'].fillna(False, inplace= True)\n",
    "test['indicator_code'].fillna(False, inplace= True)\n",
    "\n",
    "le.fit(train['indicator_code'])\n",
    "train['indicator_code'] = le.transform(train['indicator_code'])\n",
    "test['indicator_code'] = le.transform(test['indicator_code'])"
   ]
  },
  {
   "cell_type": "code",
   "execution_count": 358,
   "metadata": {
    "collapsed": true
   },
   "outputs": [],
   "source": [
    "le.fit(train['type'])\n",
    "train['type'] = le.transform(train['type'])\n",
    "test['type'] = le.transform(test['type'])"
   ]
  },
  {
   "cell_type": "code",
   "execution_count": 359,
   "metadata": {},
   "outputs": [],
   "source": [
    "train['hedge_value'].fillna(False, inplace=True)\n",
    "test['hedge_value'].fillna(False, inplace=True)\n",
    "\n",
    "train['hedge_value'] = train['hedge_value'].map({False:0, True:1})\n",
    "test['hedge_value'] = test['hedge_value'].map({False:0, True:1})"
   ]
  },
  {
   "cell_type": "code",
   "execution_count": 360,
   "metadata": {},
   "outputs": [],
   "source": [
    "train['status'].fillna(False, inplace= True)\n",
    "test['status'].fillna(False, inplace= True)\n",
    "\n",
    "train['status'] = train['status'].map({False:0, True:1})\n",
    "train['status'] = train['status'].map({False:0, True:1})"
   ]
  },
  {
   "cell_type": "code",
   "execution_count": 361,
   "metadata": {},
   "outputs": [],
   "source": [
    "retn = train['return']\n",
    "test_portfolio_id = test.portfolio_id.values\n",
    "\n",
    "train.drop(['portfolio_id','bought', 'type', 'return'], inplace=True, axis=1)\n",
    "test.drop(['portfolio_id','bought', 'type'], inplace=True, axis=1)"
   ]
  },
  {
   "cell_type": "code",
   "execution_count": 432,
   "metadata": {},
   "outputs": [],
   "source": [
    "params = {'learning_rate': 0.02, \n",
    "          'num_leaves':78,\n",
    "          'min_data_in_leaf': 160,\n",
    "          'max_depth': 10, \n",
    "          'colsample_bytree': 0.522,\n",
    "          'boosting': 'gbdt', \n",
    "          'application': 'regression', \n",
    "          'metric': 'mae',  \n",
    "          'verbosity': -1,\n",
    "          'seed': 32}"
   ]
  },
  {
   "cell_type": "code",
   "execution_count": 433,
   "metadata": {},
   "outputs": [],
   "source": [
    "lgb_train = lgb.Dataset(train, label=np.log1p(retn))"
   ]
  },
  {
   "cell_type": "code",
   "execution_count": 434,
   "metadata": {},
   "outputs": [
    {
     "name": "stdout",
     "output_type": "stream",
     "text": [
      "[20]\tcv_agg's l1: 0.00973742 + 8.78259e-05\n",
      "[40]\tcv_agg's l1: 0.00690007 + 7.78489e-05\n",
      "[60]\tcv_agg's l1: 0.00512724 + 7.3713e-05\n",
      "[80]\tcv_agg's l1: 0.00394257 + 7.81529e-05\n",
      "[100]\tcv_agg's l1: 0.00311283 + 8.5042e-05\n",
      "[120]\tcv_agg's l1: 0.00258225 + 8.55601e-05\n",
      "[140]\tcv_agg's l1: 0.00220682 + 9.17402e-05\n",
      "[160]\tcv_agg's l1: 0.00197927 + 9.15574e-05\n",
      "[180]\tcv_agg's l1: 0.00183753 + 8.99323e-05\n",
      "[200]\tcv_agg's l1: 0.00174665 + 8.99006e-05\n",
      "[220]\tcv_agg's l1: 0.00169909 + 8.97154e-05\n",
      "[240]\tcv_agg's l1: 0.00165568 + 9.18631e-05\n",
      "[260]\tcv_agg's l1: 0.00161855 + 9.07757e-05\n",
      "[280]\tcv_agg's l1: 0.00158822 + 9.03037e-05\n",
      "[300]\tcv_agg's l1: 0.00156435 + 8.8681e-05\n",
      "[320]\tcv_agg's l1: 0.00154294 + 8.87078e-05\n",
      "[340]\tcv_agg's l1: 0.00152315 + 8.91384e-05\n",
      "[360]\tcv_agg's l1: 0.00150067 + 8.89693e-05\n",
      "[380]\tcv_agg's l1: 0.00148539 + 9.02403e-05\n",
      "[400]\tcv_agg's l1: 0.0014692 + 8.96694e-05\n",
      "[420]\tcv_agg's l1: 0.0014523 + 9.17574e-05\n",
      "[440]\tcv_agg's l1: 0.00143907 + 9.19035e-05\n",
      "[460]\tcv_agg's l1: 0.00143049 + 9.20769e-05\n",
      "[480]\tcv_agg's l1: 0.00141936 + 9.3583e-05\n",
      "[500]\tcv_agg's l1: 0.00141058 + 9.37089e-05\n",
      "[520]\tcv_agg's l1: 0.00140145 + 9.34766e-05\n",
      "[540]\tcv_agg's l1: 0.00139339 + 9.26896e-05\n",
      "[560]\tcv_agg's l1: 0.00138634 + 9.21813e-05\n",
      "[580]\tcv_agg's l1: 0.00137871 + 9.24243e-05\n",
      "[600]\tcv_agg's l1: 0.00136829 + 9.2035e-05\n",
      "[620]\tcv_agg's l1: 0.00136271 + 9.1906e-05\n",
      "[640]\tcv_agg's l1: 0.00135689 + 9.181e-05\n",
      "[660]\tcv_agg's l1: 0.00134919 + 9.13654e-05\n",
      "[680]\tcv_agg's l1: 0.00134455 + 9.12817e-05\n",
      "[700]\tcv_agg's l1: 0.00133819 + 9.18272e-05\n",
      "[720]\tcv_agg's l1: 0.00133301 + 9.14346e-05\n",
      "[740]\tcv_agg's l1: 0.00132708 + 9.2173e-05\n",
      "[760]\tcv_agg's l1: 0.00132337 + 9.15637e-05\n",
      "[780]\tcv_agg's l1: 0.00131902 + 9.05159e-05\n",
      "[800]\tcv_agg's l1: 0.001314 + 9.09622e-05\n",
      "[820]\tcv_agg's l1: 0.00131039 + 9.09004e-05\n",
      "[840]\tcv_agg's l1: 0.00130762 + 9.09807e-05\n",
      "[860]\tcv_agg's l1: 0.00130564 + 9.07103e-05\n",
      "[880]\tcv_agg's l1: 0.00130285 + 9.01567e-05\n",
      "[900]\tcv_agg's l1: 0.00130187 + 8.85772e-05\n",
      "[920]\tcv_agg's l1: 0.00129903 + 8.7881e-05\n",
      "[940]\tcv_agg's l1: 0.00129608 + 8.72142e-05\n",
      "[960]\tcv_agg's l1: 0.00129434 + 8.76933e-05\n",
      "[980]\tcv_agg's l1: 0.00129294 + 8.85157e-05\n",
      "[1000]\tcv_agg's l1: 0.00128984 + 8.88163e-05\n",
      "[1020]\tcv_agg's l1: 0.00128797 + 8.97478e-05\n",
      "[1040]\tcv_agg's l1: 0.00128506 + 9.04482e-05\n",
      "[1060]\tcv_agg's l1: 0.00128309 + 8.97532e-05\n",
      "[1080]\tcv_agg's l1: 0.00127995 + 8.95452e-05\n",
      "[1100]\tcv_agg's l1: 0.00127775 + 8.98392e-05\n",
      "[1120]\tcv_agg's l1: 0.00127532 + 8.9868e-05\n",
      "[1140]\tcv_agg's l1: 0.00127231 + 8.96629e-05\n",
      "[1160]\tcv_agg's l1: 0.00126895 + 8.98061e-05\n",
      "[1180]\tcv_agg's l1: 0.00126626 + 8.9482e-05\n",
      "[1200]\tcv_agg's l1: 0.00126402 + 8.90698e-05\n",
      "[1220]\tcv_agg's l1: 0.00126316 + 8.91027e-05\n",
      "[1240]\tcv_agg's l1: 0.00126156 + 8.90846e-05\n",
      "[1260]\tcv_agg's l1: 0.00125954 + 8.86212e-05\n",
      "[1280]\tcv_agg's l1: 0.00125735 + 8.79665e-05\n",
      "[1300]\tcv_agg's l1: 0.0012549 + 8.80937e-05\n",
      "[1320]\tcv_agg's l1: 0.00125332 + 8.72973e-05\n",
      "[1340]\tcv_agg's l1: 0.00125306 + 8.69071e-05\n",
      "[1360]\tcv_agg's l1: 0.00125116 + 8.63949e-05\n",
      "[1380]\tcv_agg's l1: 0.00124942 + 8.61874e-05\n",
      "[1400]\tcv_agg's l1: 0.0012462 + 8.61309e-05\n",
      "[1420]\tcv_agg's l1: 0.00124409 + 8.52272e-05\n",
      "[1440]\tcv_agg's l1: 0.00124265 + 8.545e-05\n",
      "[1460]\tcv_agg's l1: 0.0012416 + 8.53862e-05\n",
      "[1480]\tcv_agg's l1: 0.00124023 + 8.5461e-05\n",
      "[1500]\tcv_agg's l1: 0.00123895 + 8.49393e-05\n",
      "[1520]\tcv_agg's l1: 0.00123842 + 8.40708e-05\n",
      "[1540]\tcv_agg's l1: 0.00123641 + 8.46768e-05\n",
      "[1560]\tcv_agg's l1: 0.00123639 + 8.50271e-05\n",
      "[1580]\tcv_agg's l1: 0.00123481 + 8.46846e-05\n",
      "[1600]\tcv_agg's l1: 0.00123369 + 8.41165e-05\n",
      "[1620]\tcv_agg's l1: 0.00123386 + 8.37853e-05\n",
      "[1640]\tcv_agg's l1: 0.00123365 + 8.33782e-05\n",
      "[1660]\tcv_agg's l1: 0.00123182 + 8.27005e-05\n",
      "[1680]\tcv_agg's l1: 0.00123019 + 8.25619e-05\n",
      "[1700]\tcv_agg's l1: 0.00122935 + 8.27072e-05\n",
      "[1720]\tcv_agg's l1: 0.0012289 + 8.28625e-05\n",
      "[1740]\tcv_agg's l1: 0.00122937 + 8.23936e-05\n",
      "[1760]\tcv_agg's l1: 0.00122868 + 8.27997e-05\n",
      "[1780]\tcv_agg's l1: 0.00122849 + 8.23346e-05\n",
      "[1800]\tcv_agg's l1: 0.00122816 + 8.21296e-05\n",
      "[1820]\tcv_agg's l1: 0.00122845 + 8.16638e-05\n"
     ]
    }
   ],
   "source": [
    "lgb_cv = lgb.cv(params, lgb_train, num_boost_round=10000, nfold= 5, stratified=False,\n",
    "                 verbose_eval=20, early_stopping_rounds=40)"
   ]
  },
  {
   "cell_type": "code",
   "execution_count": 435,
   "metadata": {},
   "outputs": [
    {
     "name": "stdout",
     "output_type": "stream",
     "text": [
      "1794\n"
     ]
    }
   ],
   "source": [
    "nround = lgb_cv['l1-mean'].index(np.min(lgb_cv['l1-mean']))\n",
    "print(nround)"
   ]
  },
  {
   "cell_type": "code",
   "execution_count": 436,
   "metadata": {},
   "outputs": [],
   "source": [
    "model = lgb.train(params, lgb_train, num_boost_round=nround)"
   ]
  },
  {
   "cell_type": "code",
   "execution_count": 437,
   "metadata": {},
   "outputs": [
    {
     "data": {
      "text/plain": [
       "0.85325512902859346"
      ]
     },
     "execution_count": 437,
     "metadata": {},
     "output_type": "execute_result"
    }
   ],
   "source": [
    "r2_score(retn, np.expm1(model.predict(train)))"
   ]
  },
  {
   "cell_type": "code",
   "execution_count": 427,
   "metadata": {
    "collapsed": true
   },
   "outputs": [],
   "source": [
    "pred = model.predict(test)"
   ]
  },
  {
   "cell_type": "code",
   "execution_count": 428,
   "metadata": {},
   "outputs": [
    {
     "data": {
      "text/html": [
       "<div>\n",
       "<style>\n",
       "    .dataframe thead tr:only-child th {\n",
       "        text-align: right;\n",
       "    }\n",
       "\n",
       "    .dataframe thead th {\n",
       "        text-align: left;\n",
       "    }\n",
       "\n",
       "    .dataframe tbody tr th {\n",
       "        vertical-align: top;\n",
       "    }\n",
       "</style>\n",
       "<table border=\"1\" class=\"dataframe\">\n",
       "  <thead>\n",
       "    <tr style=\"text-align: right;\">\n",
       "      <th></th>\n",
       "      <th>portfolio_id</th>\n",
       "      <th>return</th>\n",
       "    </tr>\n",
       "  </thead>\n",
       "  <tbody>\n",
       "    <tr>\n",
       "      <th>0</th>\n",
       "      <td>PF00001001</td>\n",
       "      <td>0.028015</td>\n",
       "    </tr>\n",
       "    <tr>\n",
       "      <th>1</th>\n",
       "      <td>PF00001004</td>\n",
       "      <td>0.034164</td>\n",
       "    </tr>\n",
       "    <tr>\n",
       "      <th>2</th>\n",
       "      <td>PF00001009</td>\n",
       "      <td>0.025466</td>\n",
       "    </tr>\n",
       "    <tr>\n",
       "      <th>3</th>\n",
       "      <td>PF00001013</td>\n",
       "      <td>0.027118</td>\n",
       "    </tr>\n",
       "    <tr>\n",
       "      <th>4</th>\n",
       "      <td>PF00001014</td>\n",
       "      <td>0.024125</td>\n",
       "    </tr>\n",
       "  </tbody>\n",
       "</table>\n",
       "</div>"
      ],
      "text/plain": [
       "  portfolio_id    return\n",
       "0   PF00001001  0.028015\n",
       "1   PF00001004  0.034164\n",
       "2   PF00001009  0.025466\n",
       "3   PF00001013  0.027118\n",
       "4   PF00001014  0.024125"
      ]
     },
     "execution_count": 428,
     "metadata": {},
     "output_type": "execute_result"
    }
   ],
   "source": [
    "sub = pd.DataFrame({'portfolio_id':test_portfolio_id, 'return':np.expm1(pred)})\n",
    "sub.head(5)"
   ]
  },
  {
   "cell_type": "code",
   "execution_count": 431,
   "metadata": {
    "collapsed": true
   },
   "outputs": [],
   "source": [
    "sub.to_csv('lgb_v2.csv', index=False)"
   ]
  },
  {
   "cell_type": "code",
   "execution_count": 467,
   "metadata": {
    "collapsed": true
   },
   "outputs": [],
   "source": [
    "def xgb_r2(pred, drain):\n",
    "    y = list(drain.get_label())\n",
    "    score = r2_score(y, np.expm1(pred))\n",
    "    return 'r2_score', score\n",
    "    "
   ]
  },
  {
   "cell_type": "code",
   "execution_count": 468,
   "metadata": {
    "collapsed": true
   },
   "outputs": [],
   "source": [
    "xgb_params = {\n",
    "    'seed': 4,\n",
    "    'colsample_bytree': 0.73,\n",
    "    'silent': 1,\n",
    "    'subsample': 0.63,\n",
    "    'learning_rate': 0.01,\n",
    "    'objective':'reg:linear',    \n",
    "    'max_depth': 7,\n",
    "    'num_parallel_tree':8 ,\n",
    "    'min_child_weight': 2,\n",
    "    #'gamma': 0.046,\n",
    "    #'reg_alpha': 1.39,    \n",
    "}"
   ]
  },
  {
   "cell_type": "code",
   "execution_count": 469,
   "metadata": {
    "collapsed": true
   },
   "outputs": [],
   "source": [
    "dtrain = xgb.DMatrix(data=train, label=np.log1p(retn))\n",
    "dtest = xgb.DMatrix(data=test)"
   ]
  },
  {
   "cell_type": "code",
   "execution_count": 471,
   "metadata": {},
   "outputs": [
    {
     "name": "stdout",
     "output_type": "stream",
     "text": [
      "[0]\ttrain-r2_score:-623.463+26.8881\ttest-r2_score:-636.401+85.5407\n",
      "[20]\ttrain-r2_score:-416.978+17.9838\ttest-r2_score:-425.646+57.2793\n",
      "[40]\ttrain-r2_score:-278.79+12.0223\ttest-r2_score:-284.596+38.3459\n",
      "[60]\ttrain-r2_score:-186.31+8.03309\ttest-r2_score:-190.198+25.662\n",
      "[80]\ttrain-r2_score:-124.418+5.36233\ttest-r2_score:-127.022+17.167\n",
      "[100]\ttrain-r2_score:-82.9955+3.5757\ttest-r2_score:-84.7396+11.4755\n",
      "[120]\ttrain-r2_score:-55.2718+2.38116\ttest-r2_score:-56.4403+7.66169\n",
      "[140]\ttrain-r2_score:-36.7139+1.58333\ttest-r2_score:-37.498+5.1054\n",
      "[160]\ttrain-r2_score:-24.2914+1.04995\ttest-r2_score:-24.8193+3.39181\n",
      "[180]\ttrain-r2_score:-15.9757+0.6933\ttest-r2_score:-16.3326+2.24254\n",
      "[200]\ttrain-r2_score:-10.4068+0.455077\ttest-r2_score:-10.6509+1.4712\n",
      "[220]\ttrain-r2_score:-6.67673+0.296235\ttest-r2_score:-6.84625+0.952954\n",
      "[240]\ttrain-r2_score:-4.1771+0.190348\ttest-r2_score:-4.29885+0.605016\n",
      "[260]\ttrain-r2_score:-2.50113+0.119812\ttest-r2_score:-2.59227+0.37135\n",
      "[280]\ttrain-r2_score:-1.37612+0.0732281\ttest-r2_score:-1.44901+0.214933\n",
      "[300]\ttrain-r2_score:-0.620465+0.0426734\ttest-r2_score:-0.683018+0.1119\n",
      "[320]\ttrain-r2_score:-0.112415+0.0228913\ttest-r2_score:-0.16967+0.0509119\n",
      "[340]\ttrain-r2_score:0.229742+0.0110612\ttest-r2_score:0.174145+0.0422115\n",
      "[360]\ttrain-r2_score:0.460599+0.00717939\ttest-r2_score:0.404396+0.0628732\n",
      "[380]\ttrain-r2_score:0.616781+0.00890518\ttest-r2_score:0.558843+0.0819138\n",
      "[400]\ttrain-r2_score:0.722743+0.0113455\ttest-r2_score:0.662241+0.0959528\n",
      "[420]\ttrain-r2_score:0.795133+0.0130328\ttest-r2_score:0.731396+0.1059\n",
      "[440]\ttrain-r2_score:0.84482+0.0139665\ttest-r2_score:0.777603+0.112931\n",
      "[460]\ttrain-r2_score:0.879072+0.0144608\ttest-r2_score:0.808195+0.117966\n",
      "[480]\ttrain-r2_score:0.902842+0.014611\ttest-r2_score:0.828402+0.121537\n",
      "[500]\ttrain-r2_score:0.919668+0.0146025\ttest-r2_score:0.841394+0.12423\n",
      "[520]\ttrain-r2_score:0.931804+0.0143308\ttest-r2_score:0.849981+0.126154\n",
      "[540]\ttrain-r2_score:0.940666+0.0139386\ttest-r2_score:0.85552+0.12757\n",
      "[560]\ttrain-r2_score:0.947252+0.0134818\ttest-r2_score:0.859118+0.128631\n",
      "[580]\ttrain-r2_score:0.952378+0.0130761\ttest-r2_score:0.860858+0.129661\n",
      "[600]\ttrain-r2_score:0.956335+0.0126189\ttest-r2_score:0.861726+0.130361\n",
      "[620]\ttrain-r2_score:0.959552+0.0121833\ttest-r2_score:0.861712+0.131085\n"
     ]
    }
   ],
   "source": [
    "res = xgb.cv(xgb_params, dtrain, num_boost_round=2000, nfold=5,  stratified=False, feval = r2,\n",
    "             early_stopping_rounds=25, verbose_eval=20, show_stdv=True,  maximize=True)\n"
   ]
  },
  {
   "cell_type": "code",
   "execution_count": 472,
   "metadata": {},
   "outputs": [
    {
     "name": "stdout",
     "output_type": "stream",
     "text": [
      "xgb-CV: 0.8618826+0.13071169120564544\n"
     ]
    }
   ],
   "source": [
    "best_nrounds = res.shape[0] - 1\n",
    "cv_mean = res.iloc[-1, 0]\n",
    "cv_std = res.iloc[-1, 1]\n",
    "\n",
    "print('xgb-CV: {0}+{1}'.format(cv_mean, cv_std))"
   ]
  },
  {
   "cell_type": "code",
   "execution_count": 473,
   "metadata": {},
   "outputs": [],
   "source": [
    "gbdt = xgb.train(xgb_params, dtrain, best_nrounds)"
   ]
  },
  {
   "cell_type": "code",
   "execution_count": 474,
   "metadata": {
    "collapsed": true
   },
   "outputs": [],
   "source": [
    "pred_1 = gbdt.predict(dtest)"
   ]
  },
  {
   "cell_type": "code",
   "execution_count": 477,
   "metadata": {},
   "outputs": [
    {
     "data": {
      "text/html": [
       "<div>\n",
       "<style>\n",
       "    .dataframe thead tr:only-child th {\n",
       "        text-align: right;\n",
       "    }\n",
       "\n",
       "    .dataframe thead th {\n",
       "        text-align: left;\n",
       "    }\n",
       "\n",
       "    .dataframe tbody tr th {\n",
       "        vertical-align: top;\n",
       "    }\n",
       "</style>\n",
       "<table border=\"1\" class=\"dataframe\">\n",
       "  <thead>\n",
       "    <tr style=\"text-align: right;\">\n",
       "      <th></th>\n",
       "      <th>portfolio_id</th>\n",
       "      <th>return</th>\n",
       "    </tr>\n",
       "  </thead>\n",
       "  <tbody>\n",
       "    <tr>\n",
       "      <th>0</th>\n",
       "      <td>PF00001001</td>\n",
       "      <td>0.025602</td>\n",
       "    </tr>\n",
       "    <tr>\n",
       "      <th>1</th>\n",
       "      <td>PF00001004</td>\n",
       "      <td>0.031463</td>\n",
       "    </tr>\n",
       "    <tr>\n",
       "      <th>2</th>\n",
       "      <td>PF00001009</td>\n",
       "      <td>0.023240</td>\n",
       "    </tr>\n",
       "    <tr>\n",
       "      <th>3</th>\n",
       "      <td>PF00001013</td>\n",
       "      <td>0.025712</td>\n",
       "    </tr>\n",
       "    <tr>\n",
       "      <th>4</th>\n",
       "      <td>PF00001014</td>\n",
       "      <td>0.024627</td>\n",
       "    </tr>\n",
       "  </tbody>\n",
       "</table>\n",
       "</div>"
      ],
      "text/plain": [
       "  portfolio_id    return\n",
       "0   PF00001001  0.025602\n",
       "1   PF00001004  0.031463\n",
       "2   PF00001009  0.023240\n",
       "3   PF00001013  0.025712\n",
       "4   PF00001014  0.024627"
      ]
     },
     "execution_count": 477,
     "metadata": {},
     "output_type": "execute_result"
    }
   ],
   "source": [
    "sub1 = pd.DataFrame({'portfolio_id':test_portfolio_id, 'return':np.expm1(pred_1)})\n",
    "sub1.head(5)"
   ]
  },
  {
   "cell_type": "code",
   "execution_count": 480,
   "metadata": {
    "collapsed": true
   },
   "outputs": [],
   "source": [
    "sub1.to_csv('xgb_v1.csv', index=False)"
   ]
  },
  {
   "cell_type": "code",
   "execution_count": 490,
   "metadata": {},
   "outputs": [],
   "source": [
    "pred2 = np.expm1(0.6*pred + 0.4*pred_1)"
   ]
  },
  {
   "cell_type": "code",
   "execution_count": 492,
   "metadata": {},
   "outputs": [
    {
     "data": {
      "text/html": [
       "<div>\n",
       "<style>\n",
       "    .dataframe thead tr:only-child th {\n",
       "        text-align: right;\n",
       "    }\n",
       "\n",
       "    .dataframe thead th {\n",
       "        text-align: left;\n",
       "    }\n",
       "\n",
       "    .dataframe tbody tr th {\n",
       "        vertical-align: top;\n",
       "    }\n",
       "</style>\n",
       "<table border=\"1\" class=\"dataframe\">\n",
       "  <thead>\n",
       "    <tr style=\"text-align: right;\">\n",
       "      <th></th>\n",
       "      <th>portfolio_id</th>\n",
       "      <th>return</th>\n",
       "    </tr>\n",
       "  </thead>\n",
       "  <tbody>\n",
       "    <tr>\n",
       "      <th>0</th>\n",
       "      <td>PF00001001</td>\n",
       "      <td>0.027049</td>\n",
       "    </tr>\n",
       "    <tr>\n",
       "      <th>1</th>\n",
       "      <td>PF00001004</td>\n",
       "      <td>0.033083</td>\n",
       "    </tr>\n",
       "    <tr>\n",
       "      <th>2</th>\n",
       "      <td>PF00001009</td>\n",
       "      <td>0.024576</td>\n",
       "    </tr>\n",
       "    <tr>\n",
       "      <th>3</th>\n",
       "      <td>PF00001013</td>\n",
       "      <td>0.026555</td>\n",
       "    </tr>\n",
       "    <tr>\n",
       "      <th>4</th>\n",
       "      <td>PF00001014</td>\n",
       "      <td>0.024326</td>\n",
       "    </tr>\n",
       "  </tbody>\n",
       "</table>\n",
       "</div>"
      ],
      "text/plain": [
       "  portfolio_id    return\n",
       "0   PF00001001  0.027049\n",
       "1   PF00001004  0.033083\n",
       "2   PF00001009  0.024576\n",
       "3   PF00001013  0.026555\n",
       "4   PF00001014  0.024326"
      ]
     },
     "execution_count": 492,
     "metadata": {},
     "output_type": "execute_result"
    }
   ],
   "source": [
    "sub2 = pd.DataFrame({'portfolio_id':test_portfolio_id, 'return':pred2})\n",
    "sub2.head(5)"
   ]
  },
  {
   "cell_type": "code",
   "execution_count": 493,
   "metadata": {
    "collapsed": true
   },
   "outputs": [],
   "source": [
    "sub2.to_csv('lgb_xgb_v1.csv', index=False)"
   ]
  },
  {
   "cell_type": "code",
   "execution_count": null,
   "metadata": {
    "collapsed": true
   },
   "outputs": [],
   "source": []
  }
 ],
 "metadata": {
  "kernelspec": {
   "display_name": "Python 3",
   "language": "python",
   "name": "python3"
  },
  "language_info": {
   "codemirror_mode": {
    "name": "ipython",
    "version": 3
   },
   "file_extension": ".py",
   "mimetype": "text/x-python",
   "name": "python",
   "nbconvert_exporter": "python",
   "pygments_lexer": "ipython3",
   "version": "3.5.2"
  }
 },
 "nbformat": 4,
 "nbformat_minor": 2
}
