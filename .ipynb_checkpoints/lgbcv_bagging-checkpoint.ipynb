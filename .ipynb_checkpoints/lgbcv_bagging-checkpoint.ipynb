{
 "cells": [
  {
   "cell_type": "code",
   "execution_count": 60,
   "metadata": {},
   "outputs": [
    {
     "name": "stdout",
     "output_type": "stream",
     "text": [
      "sample_submission.csv\n",
      "test.csv\n",
      "train.csv\n",
      "\n"
     ]
    }
   ],
   "source": [
    "import numpy as np\n",
    "import pandas as pd\n",
    "from sklearn.preprocessing import LabelEncoder\n",
    "from sklearn.preprocessing import OneHotEncoder\n",
    "from sklearn.model_selection import StratifiedKFold, KFold\n",
    "from sklearn.metrics import  r2_score\n",
    "from sklearn.linear_model import ElasticNet\n",
    "from scipy import sparse as ssp\n",
    "from tqdm import tqdm_notebook\n",
    "\n",
    "import lightgbm as lgb\n",
    "from subprocess import check_output\n",
    "print(check_output(['ls','input']).decode('utf8'))\n",
    "\n",
    "import warnings\n",
    "warnings.filterwarnings('ignore')"
   ]
  },
  {
   "cell_type": "code",
   "execution_count": 3,
   "metadata": {},
   "outputs": [
    {
     "name": "stdout",
     "output_type": "stream",
     "text": [
      "Train data size: (9366, 18) Test data size: (4801, 17)\n"
     ]
    }
   ],
   "source": [
    "train = pd.read_csv('input/train.csv', parse_dates=['start_date','creation_date','sell_date'])\n",
    "test = pd.read_csv('input/test.csv', parse_dates=['start_date','creation_date','sell_date'])\n",
    "\n",
    "print('Train data size: {} Test data size: {}'.format(train.shape, test.shape))"
   ]
  },
  {
   "cell_type": "code",
   "execution_count": 4,
   "metadata": {
    "collapsed": true
   },
   "outputs": [],
   "source": [
    "train['missing'] = train.isnull().sum(axis=1).astype(float)\n",
    "test['missing'] = test.isnull().sum(axis=1).astype(float)"
   ]
  },
  {
   "cell_type": "code",
   "execution_count": 5,
   "metadata": {
    "collapsed": true
   },
   "outputs": [],
   "source": [
    "train['desk_id'].fillna('DSK00000099', inplace=True)\n",
    "test['desk_id'].fillna('DSK00000099', inplace=True)\n",
    "\n",
    "train['desk_id']=train.desk_id.apply(lambda x : x[-4:]).astype(np.int16)\n",
    "test['desk_id']=test.desk_id.apply(lambda x : x[-4:]).astype(np.int16)"
   ]
  },
  {
   "cell_type": "code",
   "execution_count": 6,
   "metadata": {
    "collapsed": true
   },
   "outputs": [],
   "source": [
    "cat_features = []\n",
    "le = LabelEncoder()\n",
    "le.fit(train['office_id'])\n",
    "train['office_id'] = le.transform(train['office_id'])\n",
    "test['office_id'] = le.transform(test['office_id'])\n",
    "cat_features.append('office_id')"
   ]
  },
  {
   "cell_type": "code",
   "execution_count": 7,
   "metadata": {
    "collapsed": true
   },
   "outputs": [],
   "source": [
    "le.fit(train['pf_category'])\n",
    "train['pf_category'] = le.transform(train['pf_category'])\n",
    "test['pf_category'] = le.transform(test['pf_category'])\n",
    "cat_features.append('pf_category')"
   ]
  },
  {
   "cell_type": "code",
   "execution_count": 8,
   "metadata": {
    "collapsed": true
   },
   "outputs": [],
   "source": [
    "le.fit(train['country_code'])\n",
    "train['country_code'] = le.transform(train['country_code'])\n",
    "test['country_code'] = le.transform(test['country_code'])\n",
    "cat_features.append('country_code')"
   ]
  },
  {
   "cell_type": "code",
   "execution_count": 9,
   "metadata": {
    "collapsed": true
   },
   "outputs": [],
   "source": [
    "train['curr_to_euro'] = train['currency'].apply(lambda x : 1.18 if x=='USD' else 1.17  if x=='CHF'\n",
    "                                               else 133.28 if x=='JPY'  else 1)\n",
    "test['curr_to_euro'] = test['currency'].apply(lambda x : 1.18 if x=='USD' else 1.17  if x=='CHF' \n",
    "                                                else 133.28 if x=='JPY'  else 1)"
   ]
  },
  {
   "cell_type": "code",
   "execution_count": 10,
   "metadata": {
    "collapsed": true
   },
   "outputs": [],
   "source": [
    "le.fit(train['currency'])\n",
    "train['currency'] = le.transform(train['currency'])\n",
    "test['currency'] = le.transform(test['currency'])\n",
    "cat_features.append('currency')"
   ]
  },
  {
   "cell_type": "code",
   "execution_count": 11,
   "metadata": {
    "collapsed": true
   },
   "outputs": [],
   "source": [
    "train['indicator_code'] = train['indicator_code'].apply(lambda x : 0 if x==False else 1 if x== True else 2)\n",
    "test['indicator_code']= test['indicator_code'].apply(lambda x : 0 if x==False else 1 if x== True else 2)\n",
    "cat_features.append('indicator_code')"
   ]
  },
  {
   "cell_type": "code",
   "execution_count": 12,
   "metadata": {
    "collapsed": true
   },
   "outputs": [],
   "source": [
    "le.fit(train['type'])\n",
    "train['type'] = le.transform(train['type'])\n",
    "test['type'] = le.transform(test['type'])\n",
    "cat_features.append('type')"
   ]
  },
  {
   "cell_type": "code",
   "execution_count": 13,
   "metadata": {
    "collapsed": true
   },
   "outputs": [],
   "source": [
    "train['hedge_value'] = train['hedge_value'].apply(lambda x : 0 if x==False else 1 if x== True else 2)\n",
    "test['hedge_value'] = test['hedge_value'].apply(lambda x : 0 if x==False else 1 if x== True else 2)\n",
    "cat_features.append('hedge_value')"
   ]
  },
  {
   "cell_type": "code",
   "execution_count": 14,
   "metadata": {
    "collapsed": true
   },
   "outputs": [],
   "source": [
    "train['status'] = train['status'].apply(lambda x : 0 if x==False else 1 if x== True else 2)\n",
    "test['status'] = test['status'].apply(lambda x : 0 if x==False else 1 if x== True else 2)\n",
    "cat_features.append('status')"
   ]
  },
  {
   "cell_type": "code",
   "execution_count": 15,
   "metadata": {
    "collapsed": true
   },
   "outputs": [],
   "source": [
    "enc = OneHotEncoder()\n",
    "enc.fit(train[cat_features])\n",
    "train_cat = enc.transform(train[cat_features])\n",
    "test_cat = enc.transform(test[cat_features])"
   ]
  },
  {
   "cell_type": "code",
   "execution_count": 16,
   "metadata": {
    "collapsed": true
   },
   "outputs": [],
   "source": [
    "cat_count_features = []\n",
    "for c in cat_features:\n",
    "    d = pd.concat([train[c],test[c]]).value_counts().to_dict()\n",
    "    train['%s_count'%c] = train[c].apply(lambda x:d.get(x,0))\n",
    "    test['%s_count'%c] = test[c].apply(lambda x:d.get(x,0))\n",
    "    cat_count_features.append('%s_count'%c)"
   ]
  },
  {
   "cell_type": "code",
   "execution_count": 17,
   "metadata": {
    "collapsed": true
   },
   "outputs": [],
   "source": [
    "data_all =[train, test]"
   ]
  },
  {
   "cell_type": "code",
   "execution_count": 20,
   "metadata": {},
   "outputs": [],
   "source": [
    "for data in data_all:\n",
    "    data['start_day'] = data.start_date.dt.day\n",
    "    data['start_month'] = data.start_date.dt.month\n",
    "    data['start_year'] = data.start_date.dt.year\n",
    "    \n",
    "    data['creation_day'] = data.creation_date.dt.day\n",
    "    data['creation_month'] = data.creation_date.dt.month\n",
    "    data['creation_year'] = data.creation_date.dt.year\n",
    "    \n",
    "    data['sell_day'] = data.sell_date.dt.day\n",
    "    data['sell_month'] = data.sell_date.dt.month\n",
    "    data['sell_year'] = data.start_date.dt.year\n",
    "    \n",
    "    data['start_creation'] = (data.start_date - data.creation_date).dt.days\n",
    "    data['start_sell'] = (data.start_date - data.sell_date).dt.days\n",
    "    data['creation_sell'] = (data.creation_date - data.sell_date).dt.days\n",
    "    \n",
    "    data['sold'].fillna(68552000.0, inplace= True)\n",
    "    data['dff_sold_bought'] = (data.sold - data.bought)\n",
    "    data['gain_loss'] = data.dff_sold_bought * data.euribor_rate \n",
    "    data['gain_loss_per_m'] = data.dff_sold_bought * data.euribor_rate \\\n",
    "                                *data['curr_to_euro']*data['start_sell']/30.\n",
    "    data['libor_rate'].fillna(0.0, inplace= True)\n",
    "    data['sold_libor'] = data['sold']*data['libor_rate']\n",
    "    data['sold_euribor'] = data['sold']*data['euribor_rate']\n",
    "    data['sold_in_euro'] = data['sold']*data['curr_to_euro']\n",
    "    data['bought_in_euro'] = data['bought']*data['curr_to_euro']\n",
    "    data.drop(['start_date','creation_date', 'sell_date'], inplace=True, axis=1)"
   ]
  },
  {
   "cell_type": "code",
   "execution_count": 31,
   "metadata": {
    "collapsed": true
   },
   "outputs": [],
   "source": [
    "date_features = ['start_day','start_month','start_year','creation_day','creation_month','creation_year',\n",
    "                'sell_day', 'sell_month']\n",
    "amt_features = ['curr_to_euro','sold', 'bought', 'euribor_rate', 'libor_rate','dff_sold_bought',\n",
    "                'gain_loss','gain_loss_per_m', 'sold_libor','sold_euribor','sold_in_euro','bought_in_euro']"
   ]
  },
  {
   "cell_type": "code",
   "execution_count": 22,
   "metadata": {
    "collapsed": true
   },
   "outputs": [],
   "source": [
    "train_label = train['return']\n",
    "test_portfolio_id = test.portfolio_id.values\n",
    "train_portfolio_id = train.portfolio_id.values\n",
    "\n",
    "train.drop(['portfolio_id', 'return'], inplace=True, axis=1)\n",
    "test.drop(['portfolio_id'], inplace=True, axis=1)"
   ]
  },
  {
   "cell_type": "code",
   "execution_count": 37,
   "metadata": {},
   "outputs": [],
   "source": [
    "#train_list = [train[cat_count_features + date_features+amt_featues].values, train_cat]\n",
    "#test_list = [test[cat_count_features + date_features+amt_featues].values, test_cat]\n",
    "#X = ssp.hstack(train_list).tocsr()\n",
    "#X_test = ssp.hstack(test_list).tocsr()\n",
    "X      = train[cat_count_features + date_features + amt_features].values\n",
    "X_test = test[cat_count_features + date_features + amt_features].values"
   ]
  },
  {
   "cell_type": "code",
   "execution_count": 57,
   "metadata": {},
   "outputs": [],
   "source": [
    "def lgb_r2(pred, drain):\n",
    "    y = drain.get_label()\n",
    "    score = r2_score(y, pred)\n",
    "    return 'r2_score', score, True\n",
    "\n",
    "\n",
    "NFOLDS = 4\n",
    "kfold = KFold(n_splits=NFOLDS, shuffle=True, random_state=13)"
   ]
  },
  {
   "cell_type": "code",
   "execution_count": 58,
   "metadata": {
    "collapsed": true
   },
   "outputs": [],
   "source": [
    "params = {'learning_rate': 0.04, \n",
    "          'num_leaves':70,\n",
    "          'min_data_in_leaf': 120,\n",
    "          'max_depth': -1, \n",
    "          'max_bin': 50,\n",
    "          'colsample_bytree': 0.8, #0.522,\n",
    "          'boosting': 'gbdt', \n",
    "          'application': 'regression', \n",
    "          'min_child_samples': 10,\n",
    "          #'min_child_weight': 150,\n",
    "          'min_split_gain': 0,\n",
    "          #'subsample': 0.9,         \n",
    "          'verbosity': 0,\n",
    "          }\n",
    "num_boost_round = 10000"
   ]
  },
  {
   "cell_type": "code",
   "execution_count": 59,
   "metadata": {},
   "outputs": [
    {
     "name": "stdout",
     "output_type": "stream",
     "text": [
      "Training until validation scores don't improve for 100 rounds.\n",
      "[100]\tvalid_0's r2_score: 0.918682\n",
      "[200]\tvalid_0's r2_score: 0.926248\n",
      "[300]\tvalid_0's r2_score: 0.928629\n",
      "[400]\tvalid_0's r2_score: 0.929423\n",
      "[500]\tvalid_0's r2_score: 0.929404\n",
      "Early stopping, best iteration is:\n",
      "[433]\tvalid_0's r2_score: 0.929627\n",
      "0.92962719345\n",
      "Training until validation scores don't improve for 100 rounds.\n",
      "[100]\tvalid_0's r2_score: 0.952676\n",
      "[200]\tvalid_0's r2_score: 0.962083\n",
      "[300]\tvalid_0's r2_score: 0.965165\n",
      "[400]\tvalid_0's r2_score: 0.966748\n",
      "[500]\tvalid_0's r2_score: 0.967142\n",
      "[600]\tvalid_0's r2_score: 0.967582\n",
      "[700]\tvalid_0's r2_score: 0.967701\n",
      "Early stopping, best iteration is:\n",
      "[696]\tvalid_0's r2_score: 0.967704\n",
      "0.967703553578\n",
      "Training until validation scores don't improve for 100 rounds.\n",
      "[100]\tvalid_0's r2_score: 0.557009\n",
      "[200]\tvalid_0's r2_score: 0.562198\n",
      "[300]\tvalid_0's r2_score: 0.56528\n",
      "[400]\tvalid_0's r2_score: 0.567043\n",
      "[500]\tvalid_0's r2_score: 0.568337\n",
      "[600]\tvalid_0's r2_score: 0.568755\n",
      "[700]\tvalid_0's r2_score: 0.569149\n",
      "[800]\tvalid_0's r2_score: 0.56895\n",
      "Early stopping, best iteration is:\n",
      "[710]\tvalid_0's r2_score: 0.569164\n",
      "0.569164056144\n",
      "Training until validation scores don't improve for 100 rounds.\n",
      "[100]\tvalid_0's r2_score: 0.915958\n",
      "[200]\tvalid_0's r2_score: 0.922888\n",
      "[300]\tvalid_0's r2_score: 0.923179\n",
      "Early stopping, best iteration is:\n",
      "[239]\tvalid_0's r2_score: 0.923565\n",
      "0.92356528353\n",
      "cv score: 0.8102245484780062\n",
      "current score: 0.8102245484780062, 1\n",
      "[0.92962719345020628, 0.96770355357805027, 0.56916405614403676, 0.92356528353032419]\n",
      "************************************************\n",
      "\n",
      "Training until validation scores don't improve for 100 rounds.\n",
      "[100]\tvalid_0's r2_score: 0.918803\n",
      "[200]\tvalid_0's r2_score: 0.927024\n",
      "[300]\tvalid_0's r2_score: 0.929272\n",
      "[400]\tvalid_0's r2_score: 0.929547\n",
      "[500]\tvalid_0's r2_score: 0.929592\n",
      "[600]\tvalid_0's r2_score: 0.929789\n",
      "[700]\tvalid_0's r2_score: 0.929526\n",
      "Early stopping, best iteration is:\n",
      "[616]\tvalid_0's r2_score: 0.929972\n",
      "0.929971866985\n",
      "Training until validation scores don't improve for 100 rounds.\n",
      "[100]\tvalid_0's r2_score: 0.94971\n",
      "[200]\tvalid_0's r2_score: 0.960217\n",
      "[300]\tvalid_0's r2_score: 0.963959\n",
      "[400]\tvalid_0's r2_score: 0.965359\n",
      "[500]\tvalid_0's r2_score: 0.966312\n",
      "[600]\tvalid_0's r2_score: 0.966514\n",
      "[700]\tvalid_0's r2_score: 0.966667\n",
      "[800]\tvalid_0's r2_score: 0.96679\n",
      "[900]\tvalid_0's r2_score: 0.966571\n",
      "Early stopping, best iteration is:\n",
      "[820]\tvalid_0's r2_score: 0.966851\n",
      "0.966850522315\n",
      "Training until validation scores don't improve for 100 rounds.\n",
      "[100]\tvalid_0's r2_score: 0.555147\n",
      "[200]\tvalid_0's r2_score: 0.561093\n",
      "[300]\tvalid_0's r2_score: 0.5643\n",
      "[400]\tvalid_0's r2_score: 0.566064\n",
      "[500]\tvalid_0's r2_score: 0.567188\n",
      "[600]\tvalid_0's r2_score: 0.568035\n",
      "[700]\tvalid_0's r2_score: 0.568106\n",
      "Early stopping, best iteration is:\n",
      "[685]\tvalid_0's r2_score: 0.568183\n",
      "0.568182891435\n",
      "Training until validation scores don't improve for 100 rounds.\n",
      "[100]\tvalid_0's r2_score: 0.914598\n",
      "[200]\tvalid_0's r2_score: 0.922135\n",
      "[300]\tvalid_0's r2_score: 0.923012\n",
      "Early stopping, best iteration is:\n",
      "[269]\tvalid_0's r2_score: 0.923226\n",
      "0.923226185631\n",
      "cv score: 0.8096839543337502\n",
      "current score: 0.8101834684637267, 2\n",
      "[0.92997186698479373, 0.96685052231497037, 0.56818289143509693, 0.92322618563084968]\n",
      "************************************************\n",
      "\n",
      "Training until validation scores don't improve for 100 rounds.\n",
      "[100]\tvalid_0's r2_score: 0.917095\n",
      "[200]\tvalid_0's r2_score: 0.925992\n",
      "[300]\tvalid_0's r2_score: 0.928485\n",
      "[400]\tvalid_0's r2_score: 0.929341\n",
      "[500]\tvalid_0's r2_score: 0.929493\n",
      "Early stopping, best iteration is:\n",
      "[465]\tvalid_0's r2_score: 0.929676\n",
      "0.929675580303\n",
      "Training until validation scores don't improve for 100 rounds.\n",
      "[100]\tvalid_0's r2_score: 0.951821\n",
      "[200]\tvalid_0's r2_score: 0.961319\n",
      "[300]\tvalid_0's r2_score: 0.964873\n",
      "[400]\tvalid_0's r2_score: 0.966538\n",
      "[500]\tvalid_0's r2_score: 0.967336\n",
      "[600]\tvalid_0's r2_score: 0.967674\n",
      "[700]\tvalid_0's r2_score: 0.967806\n",
      "Early stopping, best iteration is:\n",
      "[686]\tvalid_0's r2_score: 0.967869\n",
      "0.967869272391\n",
      "Training until validation scores don't improve for 100 rounds.\n",
      "[100]\tvalid_0's r2_score: 0.55543\n",
      "[200]\tvalid_0's r2_score: 0.560743\n",
      "[300]\tvalid_0's r2_score: 0.564545\n",
      "[400]\tvalid_0's r2_score: 0.566652\n",
      "[500]\tvalid_0's r2_score: 0.567761\n",
      "[600]\tvalid_0's r2_score: 0.568455\n",
      "[700]\tvalid_0's r2_score: 0.568752\n",
      "[800]\tvalid_0's r2_score: 0.568942\n",
      "Early stopping, best iteration is:\n",
      "[792]\tvalid_0's r2_score: 0.568979\n",
      "0.568979375956\n",
      "Training until validation scores don't improve for 100 rounds.\n",
      "[100]\tvalid_0's r2_score: 0.915778\n",
      "[200]\tvalid_0's r2_score: 0.922689\n",
      "[300]\tvalid_0's r2_score: 0.923249\n",
      "Early stopping, best iteration is:\n",
      "[253]\tvalid_0's r2_score: 0.923549\n",
      "0.923549298008\n",
      "cv score: 0.8102030559631268\n",
      "current score: 0.810326937921479, 3\n",
      "[0.92967558030339825, 0.96786927239055687, 0.56897937595589454, 0.92354929800782626]\n",
      "************************************************\n",
      "\n",
      "Training until validation scores don't improve for 100 rounds.\n",
      "[100]\tvalid_0's r2_score: 0.918606\n",
      "[200]\tvalid_0's r2_score: 0.927147\n",
      "[300]\tvalid_0's r2_score: 0.929851\n",
      "[400]\tvalid_0's r2_score: 0.93036\n",
      "Early stopping, best iteration is:\n",
      "[384]\tvalid_0's r2_score: 0.930465\n",
      "0.930464946843\n",
      "Training until validation scores don't improve for 100 rounds.\n",
      "[100]\tvalid_0's r2_score: 0.951669\n",
      "[200]\tvalid_0's r2_score: 0.961443\n",
      "[300]\tvalid_0's r2_score: 0.964734\n",
      "[400]\tvalid_0's r2_score: 0.96604\n",
      "[500]\tvalid_0's r2_score: 0.966545\n",
      "[600]\tvalid_0's r2_score: 0.967041\n",
      "[700]\tvalid_0's r2_score: 0.967132\n",
      "[800]\tvalid_0's r2_score: 0.966959\n",
      "Early stopping, best iteration is:\n",
      "[702]\tvalid_0's r2_score: 0.967142\n",
      "0.967142460079\n",
      "Training until validation scores don't improve for 100 rounds.\n",
      "[100]\tvalid_0's r2_score: 0.555558\n",
      "[200]\tvalid_0's r2_score: 0.56137\n",
      "[300]\tvalid_0's r2_score: 0.564789\n",
      "[400]\tvalid_0's r2_score: 0.566956\n",
      "[500]\tvalid_0's r2_score: 0.568413\n",
      "[600]\tvalid_0's r2_score: 0.569127\n",
      "[700]\tvalid_0's r2_score: 0.569221\n",
      "[800]\tvalid_0's r2_score: 0.569217\n",
      "Early stopping, best iteration is:\n",
      "[786]\tvalid_0's r2_score: 0.56932\n",
      "0.569319810084\n",
      "Training until validation scores don't improve for 100 rounds.\n",
      "[100]\tvalid_0's r2_score: 0.915947\n",
      "[200]\tvalid_0's r2_score: 0.923013\n",
      "[300]\tvalid_0's r2_score: 0.923351\n",
      "Early stopping, best iteration is:\n",
      "[262]\tvalid_0's r2_score: 0.923616\n",
      "0.923615954745\n",
      "cv score: 0.8103350838753987\n",
      "current score: 0.8104028604347554, 4\n",
      "[0.93046494684265368, 0.96714246007918003, 0.56931981008440991, 0.92361595474513347]\n",
      "************************************************\n",
      "\n",
      "Training until validation scores don't improve for 100 rounds.\n",
      "[100]\tvalid_0's r2_score: 0.917781\n",
      "[200]\tvalid_0's r2_score: 0.926192\n",
      "[300]\tvalid_0's r2_score: 0.928288\n",
      "[400]\tvalid_0's r2_score: 0.9289\n",
      "[500]\tvalid_0's r2_score: 0.929119\n",
      "Early stopping, best iteration is:\n",
      "[486]\tvalid_0's r2_score: 0.929191\n",
      "0.929191333446\n",
      "Training until validation scores don't improve for 100 rounds.\n",
      "[100]\tvalid_0's r2_score: 0.950856\n",
      "[200]\tvalid_0's r2_score: 0.961404\n",
      "[300]\tvalid_0's r2_score: 0.964608\n",
      "[400]\tvalid_0's r2_score: 0.966055\n",
      "[500]\tvalid_0's r2_score: 0.96699\n",
      "[600]\tvalid_0's r2_score: 0.967254\n",
      "[700]\tvalid_0's r2_score: 0.967405\n",
      "[800]\tvalid_0's r2_score: 0.967425\n",
      "Early stopping, best iteration is:\n",
      "[716]\tvalid_0's r2_score: 0.967456\n",
      "0.967455969764\n",
      "Training until validation scores don't improve for 100 rounds.\n",
      "[100]\tvalid_0's r2_score: 0.555539\n",
      "[200]\tvalid_0's r2_score: 0.56094\n",
      "[300]\tvalid_0's r2_score: 0.564392\n",
      "[400]\tvalid_0's r2_score: 0.566629\n",
      "[500]\tvalid_0's r2_score: 0.567784\n",
      "[600]\tvalid_0's r2_score: 0.568494\n",
      "[700]\tvalid_0's r2_score: 0.568542\n",
      "Early stopping, best iteration is:\n",
      "[648]\tvalid_0's r2_score: 0.568763\n",
      "0.568762751225\n",
      "Training until validation scores don't improve for 100 rounds.\n",
      "[100]\tvalid_0's r2_score: 0.914127\n",
      "[200]\tvalid_0's r2_score: 0.921562\n",
      "[300]\tvalid_0's r2_score: 0.922226\n",
      "Early stopping, best iteration is:\n",
      "[276]\tvalid_0's r2_score: 0.922483\n",
      "0.922482909823\n",
      "cv score: 0.8097000029353179\n",
      "current score: 0.810337405554606, 5\n",
      "[0.92919133344632154, 0.967455969763648, 0.56876275122529329, 0.92248290982301206]\n",
      "************************************************\n",
      "\n",
      "Training until validation scores don't improve for 100 rounds.\n",
      "[100]\tvalid_0's r2_score: 0.919034\n",
      "[200]\tvalid_0's r2_score: 0.926796\n",
      "[300]\tvalid_0's r2_score: 0.929212\n"
     ]
    },
    {
     "name": "stdout",
     "output_type": "stream",
     "text": [
      "[400]\tvalid_0's r2_score: 0.9297\n",
      "[500]\tvalid_0's r2_score: 0.929835\n",
      "[600]\tvalid_0's r2_score: 0.930121\n",
      "Early stopping, best iteration is:\n",
      "[587]\tvalid_0's r2_score: 0.930129\n",
      "0.930128692333\n",
      "Training until validation scores don't improve for 100 rounds.\n",
      "[100]\tvalid_0's r2_score: 0.951934\n",
      "[200]\tvalid_0's r2_score: 0.962477\n",
      "[300]\tvalid_0's r2_score: 0.965956\n",
      "[400]\tvalid_0's r2_score: 0.967073\n",
      "[500]\tvalid_0's r2_score: 0.967359\n",
      "[600]\tvalid_0's r2_score: 0.967724\n",
      "[700]\tvalid_0's r2_score: 0.967828\n",
      "Early stopping, best iteration is:\n",
      "[669]\tvalid_0's r2_score: 0.967898\n",
      "0.967897914215\n",
      "Training until validation scores don't improve for 100 rounds.\n",
      "[100]\tvalid_0's r2_score: 0.556386\n",
      "[200]\tvalid_0's r2_score: 0.561718\n",
      "[300]\tvalid_0's r2_score: 0.56494\n",
      "[400]\tvalid_0's r2_score: 0.567203\n",
      "[500]\tvalid_0's r2_score: 0.56833\n",
      "[600]\tvalid_0's r2_score: 0.568853\n",
      "[700]\tvalid_0's r2_score: 0.569332\n",
      "[800]\tvalid_0's r2_score: 0.569082\n",
      "Early stopping, best iteration is:\n",
      "[702]\tvalid_0's r2_score: 0.569337\n",
      "0.569337097784\n",
      "Training until validation scores don't improve for 100 rounds.\n",
      "[100]\tvalid_0's r2_score: 0.915924\n",
      "[200]\tvalid_0's r2_score: 0.923783\n",
      "[300]\tvalid_0's r2_score: 0.924076\n",
      "Early stopping, best iteration is:\n",
      "[256]\tvalid_0's r2_score: 0.924455\n",
      "0.924455288439\n",
      "cv score: 0.8106277482594656\n",
      "current score: 0.8104442723521422, 6\n",
      "[0.93012869233273154, 0.96789791421503302, 0.56933709778428976, 0.9244552884389281]\n",
      "************************************************\n",
      "\n",
      "Training until validation scores don't improve for 100 rounds.\n",
      "[100]\tvalid_0's r2_score: 0.918018\n",
      "[200]\tvalid_0's r2_score: 0.926502\n",
      "[300]\tvalid_0's r2_score: 0.928982\n",
      "[400]\tvalid_0's r2_score: 0.929842\n",
      "Early stopping, best iteration is:\n",
      "[388]\tvalid_0's r2_score: 0.929905\n",
      "0.929904601208\n",
      "Training until validation scores don't improve for 100 rounds.\n",
      "[100]\tvalid_0's r2_score: 0.950836\n",
      "[200]\tvalid_0's r2_score: 0.960638\n",
      "[300]\tvalid_0's r2_score: 0.964167\n",
      "[400]\tvalid_0's r2_score: 0.965802\n",
      "[500]\tvalid_0's r2_score: 0.966603\n",
      "[600]\tvalid_0's r2_score: 0.96707\n",
      "[700]\tvalid_0's r2_score: 0.967277\n",
      "[800]\tvalid_0's r2_score: 0.967335\n",
      "[900]\tvalid_0's r2_score: 0.967297\n",
      "Early stopping, best iteration is:\n",
      "[803]\tvalid_0's r2_score: 0.96735\n",
      "0.967350291696\n",
      "Training until validation scores don't improve for 100 rounds.\n",
      "[100]\tvalid_0's r2_score: 0.555401\n",
      "[200]\tvalid_0's r2_score: 0.561379\n",
      "[300]\tvalid_0's r2_score: 0.565196\n",
      "[400]\tvalid_0's r2_score: 0.567645\n",
      "[500]\tvalid_0's r2_score: 0.568763\n",
      "[600]\tvalid_0's r2_score: 0.56912\n",
      "Early stopping, best iteration is:\n",
      "[536]\tvalid_0's r2_score: 0.569209\n",
      "0.569209429059\n",
      "Training until validation scores don't improve for 100 rounds.\n",
      "[100]\tvalid_0's r2_score: 0.913413\n",
      "[200]\tvalid_0's r2_score: 0.921564\n",
      "[300]\tvalid_0's r2_score: 0.922023\n",
      "Early stopping, best iteration is:\n",
      "[294]\tvalid_0's r2_score: 0.922089\n",
      "0.922088941822\n",
      "cv score: 0.8098909084897465\n",
      "current score: 0.8104219825881938, 7\n",
      "[0.92990460120818796, 0.96735029169633291, 0.56920942905929095, 0.92208894182192747]\n",
      "************************************************\n",
      "\n",
      "Training until validation scores don't improve for 100 rounds.\n",
      "[100]\tvalid_0's r2_score: 0.917432\n",
      "[200]\tvalid_0's r2_score: 0.926341\n",
      "[300]\tvalid_0's r2_score: 0.928309\n",
      "[400]\tvalid_0's r2_score: 0.929319\n",
      "[500]\tvalid_0's r2_score: 0.929268\n",
      "Early stopping, best iteration is:\n",
      "[449]\tvalid_0's r2_score: 0.929511\n",
      "0.92951126835\n",
      "Training until validation scores don't improve for 100 rounds.\n",
      "[100]\tvalid_0's r2_score: 0.952594\n",
      "[200]\tvalid_0's r2_score: 0.962589\n",
      "[300]\tvalid_0's r2_score: 0.965472\n",
      "[400]\tvalid_0's r2_score: 0.96721\n",
      "[500]\tvalid_0's r2_score: 0.967624\n",
      "[600]\tvalid_0's r2_score: 0.967884\n",
      "Early stopping, best iteration is:\n",
      "[570]\tvalid_0's r2_score: 0.968011\n",
      "0.96801068096\n",
      "Training until validation scores don't improve for 100 rounds.\n",
      "[100]\tvalid_0's r2_score: 0.556213\n",
      "[200]\tvalid_0's r2_score: 0.561437\n",
      "[300]\tvalid_0's r2_score: 0.564848\n",
      "[400]\tvalid_0's r2_score: 0.567017\n",
      "[500]\tvalid_0's r2_score: 0.568308\n",
      "[600]\tvalid_0's r2_score: 0.569071\n",
      "[700]\tvalid_0's r2_score: 0.569306\n",
      "[800]\tvalid_0's r2_score: 0.569233\n",
      "Early stopping, best iteration is:\n",
      "[739]\tvalid_0's r2_score: 0.569411\n",
      "0.569411155151\n",
      "Training until validation scores don't improve for 100 rounds.\n",
      "[100]\tvalid_0's r2_score: 0.915361\n",
      "[200]\tvalid_0's r2_score: 0.922334\n",
      "[300]\tvalid_0's r2_score: 0.922886\n",
      "Early stopping, best iteration is:\n",
      "[294]\tvalid_0's r2_score: 0.922957\n",
      "0.922956936477\n",
      "cv score: 0.8102218329596701\n",
      "current score: 0.8104413409807875, 8\n",
      "[0.92951126835026243, 0.96801068095998999, 0.56941115515050433, 0.92295693647734811]\n",
      "************************************************\n",
      "\n",
      "[0.81022454847800618, 0.80968395433375018, 0.81020305596312681, 0.81033508387539865, 0.80970000293531785, 0.8106277482594656, 0.80989090848974654, 0.8102218329596701]\n"
     ]
    }
   ],
   "source": [
    "x_score = []\n",
    "final_cv_train = np.zeros(len(train_label))\n",
    "final_cv_pred = np.zeros(len(test_portfolio_id))\n",
    "no_round = 8\n",
    "for s in range(no_round):\n",
    "    cv_train = np.zeros(len(train_label))\n",
    "    cv_pred = np.zeros(len(test_portfolio_id))\n",
    "\n",
    "    params['seed'] = s\n",
    "\n",
    "    \n",
    "    kf = kfold.split(X, train_label)\n",
    "\n",
    "    best_trees = []\n",
    "    fold_scores = []\n",
    "    \n",
    "    for i, (train_fold, valid_fold) in enumerate(kf):\n",
    "        X_train, X_valid, y_train, y_valid = \\\n",
    "        X[train_fold, :], X[valid_fold, :], train_label[train_fold], train_label[valid_fold]\n",
    "                \n",
    "        dtrain = lgb.Dataset(X_train, y_train)\n",
    "        dvalid = lgb.Dataset(X_valid, y_valid, reference=dtrain)\n",
    "            \n",
    "        bst = lgb.train(params, dtrain, num_boost_round, valid_sets=dvalid, feval=lgb_r2, verbose_eval=100,\n",
    "                             early_stopping_rounds=100)            \n",
    "        best_trees.append(bst.best_iteration)\n",
    "            \n",
    "        #model = lgb.train(params,lgb.Dataset(X, train_label), num_boost_round=bst.best_iteration)\n",
    "        #cv_pred += model.predict(X_test)\n",
    "        #cv_train[valid_fold] += model.predict(X_valid)\n",
    "            \n",
    "        cv_pred += bst.predict(X_test, num_iteration=bst.best_iteration)\n",
    "        cv_train[valid_fold] += bst.predict(X_valid, num_iteration=bst.best_iteration)\n",
    "\n",
    "        score = r2_score(y_valid, cv_train[valid_fold])\n",
    "        print(score)\n",
    "        fold_scores.append(score)\n",
    "\n",
    "    cv_pred /= NFOLDS\n",
    "    final_cv_train += cv_train\n",
    "    final_cv_pred += cv_pred\n",
    "\n",
    "    print(\"cv score: {}\".format(r2_score(train_label, cv_train)))    \n",
    "    print (\"current score: {}, {}\".format(r2_score(train_label, final_cv_train / (s + 1.)), s+1))\n",
    "    print(fold_scores)\n",
    "    #print(best_trees, np.mean(best_trees))\n",
    "    print(\"************************************************\")\n",
    "    print()\n",
    "    x_score.append(r2_score(train_label, cv_train))\n",
    "\n",
    "print(x_score)"
   ]
  },
  {
   "cell_type": "code",
   "execution_count": null,
   "metadata": {},
   "outputs": [],
   "source": []
  },
  {
   "cell_type": "code",
   "execution_count": null,
   "metadata": {
    "collapsed": true
   },
   "outputs": [],
   "source": []
  },
  {
   "cell_type": "code",
   "execution_count": 51,
   "metadata": {},
   "outputs": [
    {
     "data": {
      "text/html": [
       "<div>\n",
       "<style>\n",
       "    .dataframe thead tr:only-child th {\n",
       "        text-align: right;\n",
       "    }\n",
       "\n",
       "    .dataframe thead th {\n",
       "        text-align: left;\n",
       "    }\n",
       "\n",
       "    .dataframe tbody tr th {\n",
       "        vertical-align: top;\n",
       "    }\n",
       "</style>\n",
       "<table border=\"1\" class=\"dataframe\">\n",
       "  <thead>\n",
       "    <tr style=\"text-align: right;\">\n",
       "      <th></th>\n",
       "      <th>portfolio_id</th>\n",
       "      <th>return</th>\n",
       "    </tr>\n",
       "  </thead>\n",
       "  <tbody>\n",
       "    <tr>\n",
       "      <th>0</th>\n",
       "      <td>PF00001001</td>\n",
       "      <td>0.025406</td>\n",
       "    </tr>\n",
       "    <tr>\n",
       "      <th>1</th>\n",
       "      <td>PF00001004</td>\n",
       "      <td>0.029968</td>\n",
       "    </tr>\n",
       "    <tr>\n",
       "      <th>2</th>\n",
       "      <td>PF00001009</td>\n",
       "      <td>0.022003</td>\n",
       "    </tr>\n",
       "    <tr>\n",
       "      <th>3</th>\n",
       "      <td>PF00001013</td>\n",
       "      <td>0.026275</td>\n",
       "    </tr>\n",
       "    <tr>\n",
       "      <th>4</th>\n",
       "      <td>PF00001014</td>\n",
       "      <td>0.024092</td>\n",
       "    </tr>\n",
       "  </tbody>\n",
       "</table>\n",
       "</div>"
      ],
      "text/plain": [
       "  portfolio_id    return\n",
       "0   PF00001001  0.025406\n",
       "1   PF00001004  0.029968\n",
       "2   PF00001009  0.022003\n",
       "3   PF00001013  0.026275\n",
       "4   PF00001014  0.024092"
      ]
     },
     "execution_count": 51,
     "metadata": {},
     "output_type": "execute_result"
    }
   ],
   "source": [
    "sub = pd.DataFrame({'portfolio_id':test_portfolio_id, 'return':final_cv_pred / float(no_round)})\n",
    "sub.head(5)"
   ]
  },
  {
   "cell_type": "code",
   "execution_count": 52,
   "metadata": {
    "collapsed": true
   },
   "outputs": [],
   "source": [
    "sub.to_csv('lgbcv_bag_v1.csv', index=False)"
   ]
  },
  {
   "cell_type": "code",
   "execution_count": null,
   "metadata": {
    "collapsed": true
   },
   "outputs": [],
   "source": []
  }
 ],
 "metadata": {
  "kernelspec": {
   "display_name": "Python 3",
   "language": "python",
   "name": "python3"
  },
  "language_info": {
   "codemirror_mode": {
    "name": "ipython",
    "version": 3
   },
   "file_extension": ".py",
   "mimetype": "text/x-python",
   "name": "python",
   "nbconvert_exporter": "python",
   "pygments_lexer": "ipython3",
   "version": "3.5.2"
  }
 },
 "nbformat": 4,
 "nbformat_minor": 2
}
