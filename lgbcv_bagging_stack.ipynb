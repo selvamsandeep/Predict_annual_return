{
 "cells": [
  {
   "cell_type": "code",
   "execution_count": 147,
   "metadata": {},
   "outputs": [
    {
     "name": "stdout",
     "output_type": "stream",
     "text": [
      "sample_submission.csv\n",
      "test.csv\n",
      "train.csv\n",
      "\n"
     ]
    }
   ],
   "source": [
    "import numpy as np\n",
    "import pandas as pd\n",
    "from sklearn.preprocessing import LabelEncoder\n",
    "from sklearn.preprocessing import OneHotEncoder\n",
    "from sklearn.model_selection import StratifiedKFold, KFold\n",
    "from sklearn.metrics import  r2_score\n",
    "from sklearn.linear_model import LinearRegression,Ridge,Lasso\n",
    "\n",
    "from scipy import sparse as ssp\n",
    "from tqdm import tqdm_notebook\n",
    "\n",
    "import lightgbm as lgb\n",
    "from subprocess import check_output\n",
    "print(check_output(['ls','input']).decode('utf8'))\n",
    "\n",
    "import warnings\n",
    "warnings.filterwarnings('ignore')"
   ]
  },
  {
   "cell_type": "code",
   "execution_count": 3,
   "metadata": {},
   "outputs": [
    {
     "name": "stdout",
     "output_type": "stream",
     "text": [
      "Train data size: (9366, 18) Test data size: (4801, 17)\n"
     ]
    }
   ],
   "source": [
    "train = pd.read_csv('input/train.csv', parse_dates=['start_date','creation_date','sell_date'])\n",
    "test = pd.read_csv('input/test.csv', parse_dates=['start_date','creation_date','sell_date'])\n",
    "\n",
    "print('Train data size: {} Test data size: {}'.format(train.shape, test.shape))"
   ]
  },
  {
   "cell_type": "code",
   "execution_count": 4,
   "metadata": {
    "collapsed": true
   },
   "outputs": [],
   "source": [
    "train['missing'] = train.isnull().sum(axis=1).astype(float)\n",
    "test['missing'] = test.isnull().sum(axis=1).astype(float)"
   ]
  },
  {
   "cell_type": "code",
   "execution_count": 5,
   "metadata": {
    "collapsed": true
   },
   "outputs": [],
   "source": [
    "train['desk_id'].fillna('DSK00000099', inplace=True)\n",
    "test['desk_id'].fillna('DSK00000099', inplace=True)\n",
    "\n",
    "train['desk_id']=train.desk_id.apply(lambda x : x[-4:]).astype(np.int16)\n",
    "test['desk_id']=test.desk_id.apply(lambda x : x[-4:]).astype(np.int16)"
   ]
  },
  {
   "cell_type": "code",
   "execution_count": 6,
   "metadata": {
    "collapsed": true
   },
   "outputs": [],
   "source": [
    "cat_features = []\n",
    "le = LabelEncoder()\n",
    "le.fit(train['office_id'])\n",
    "train['office_id'] = le.transform(train['office_id'])\n",
    "test['office_id'] = le.transform(test['office_id'])\n",
    "cat_features.append('office_id')"
   ]
  },
  {
   "cell_type": "code",
   "execution_count": 7,
   "metadata": {
    "collapsed": true
   },
   "outputs": [],
   "source": [
    "le.fit(train['pf_category'])\n",
    "train['pf_category'] = le.transform(train['pf_category'])\n",
    "test['pf_category'] = le.transform(test['pf_category'])\n",
    "cat_features.append('pf_category')"
   ]
  },
  {
   "cell_type": "code",
   "execution_count": 8,
   "metadata": {
    "collapsed": true
   },
   "outputs": [],
   "source": [
    "le.fit(train['country_code'])\n",
    "train['country_code'] = le.transform(train['country_code'])\n",
    "test['country_code'] = le.transform(test['country_code'])\n",
    "cat_features.append('country_code')"
   ]
  },
  {
   "cell_type": "code",
   "execution_count": 9,
   "metadata": {
    "collapsed": true
   },
   "outputs": [],
   "source": [
    "train['curr_to_euro'] = train['currency'].apply(lambda x : 1.18 if x=='USD' else 1.17  if x=='CHF'\n",
    "                                               else 133.28 if x=='JPY'  else 1)\n",
    "test['curr_to_euro'] = test['currency'].apply(lambda x : 1.18 if x=='USD' else 1.17  if x=='CHF' \n",
    "                                                else 133.28 if x=='JPY'  else 1)"
   ]
  },
  {
   "cell_type": "code",
   "execution_count": 10,
   "metadata": {
    "collapsed": true
   },
   "outputs": [],
   "source": [
    "le.fit(train['currency'])\n",
    "train['currency'] = le.transform(train['currency'])\n",
    "test['currency'] = le.transform(test['currency'])\n",
    "cat_features.append('currency')"
   ]
  },
  {
   "cell_type": "code",
   "execution_count": 11,
   "metadata": {
    "collapsed": true
   },
   "outputs": [],
   "source": [
    "train['indicator_code'] = train['indicator_code'].apply(lambda x : 0 if x==False else 1 if x== True else 2)\n",
    "test['indicator_code']= test['indicator_code'].apply(lambda x : 0 if x==False else 1 if x== True else 2)\n",
    "cat_features.append('indicator_code')"
   ]
  },
  {
   "cell_type": "code",
   "execution_count": 12,
   "metadata": {
    "collapsed": true
   },
   "outputs": [],
   "source": [
    "le.fit(train['type'])\n",
    "train['type'] = le.transform(train['type'])\n",
    "test['type'] = le.transform(test['type'])\n",
    "cat_features.append('type')"
   ]
  },
  {
   "cell_type": "code",
   "execution_count": 13,
   "metadata": {
    "collapsed": true
   },
   "outputs": [],
   "source": [
    "train['hedge_value'] = train['hedge_value'].apply(lambda x : 0 if x==False else 1 if x== True else 2)\n",
    "test['hedge_value'] = test['hedge_value'].apply(lambda x : 0 if x==False else 1 if x== True else 2)\n",
    "cat_features.append('hedge_value')"
   ]
  },
  {
   "cell_type": "code",
   "execution_count": 14,
   "metadata": {
    "collapsed": true
   },
   "outputs": [],
   "source": [
    "train['status'] = train['status'].apply(lambda x : 0 if x==False else 1 if x== True else 2)\n",
    "test['status'] = test['status'].apply(lambda x : 0 if x==False else 1 if x== True else 2)\n",
    "cat_features.append('status')"
   ]
  },
  {
   "cell_type": "code",
   "execution_count": 15,
   "metadata": {
    "collapsed": true
   },
   "outputs": [],
   "source": [
    "enc = OneHotEncoder()\n",
    "enc.fit(train[cat_features])\n",
    "train_cat = enc.transform(train[cat_features])\n",
    "test_cat = enc.transform(test[cat_features])"
   ]
  },
  {
   "cell_type": "code",
   "execution_count": 16,
   "metadata": {
    "collapsed": true
   },
   "outputs": [],
   "source": [
    "cat_count_features = []\n",
    "for c in cat_features:\n",
    "    d = pd.concat([train[c],test[c]]).value_counts().to_dict()\n",
    "    train['%s_count'%c] = train[c].apply(lambda x:d.get(x,0))\n",
    "    test['%s_count'%c] = test[c].apply(lambda x:d.get(x,0))\n",
    "    cat_count_features.append('%s_count'%c)"
   ]
  },
  {
   "cell_type": "code",
   "execution_count": 17,
   "metadata": {
    "collapsed": true
   },
   "outputs": [],
   "source": [
    "data_all =[train, test]"
   ]
  },
  {
   "cell_type": "code",
   "execution_count": 20,
   "metadata": {},
   "outputs": [],
   "source": [
    "for data in data_all:\n",
    "    data['start_day'] = data.start_date.dt.day\n",
    "    data['start_month'] = data.start_date.dt.month\n",
    "    data['start_year'] = data.start_date.dt.year\n",
    "    \n",
    "    data['creation_day'] = data.creation_date.dt.day\n",
    "    data['creation_month'] = data.creation_date.dt.month\n",
    "    data['creation_year'] = data.creation_date.dt.year\n",
    "    \n",
    "    data['sell_day'] = data.sell_date.dt.day\n",
    "    data['sell_month'] = data.sell_date.dt.month\n",
    "    data['sell_year'] = data.start_date.dt.year\n",
    "    \n",
    "    data['start_creation'] = (data.start_date - data.creation_date).dt.days\n",
    "    data['start_sell'] = (data.start_date - data.sell_date).dt.days\n",
    "    data['creation_sell'] = (data.creation_date - data.sell_date).dt.days\n",
    "    \n",
    "    data['sold'].fillna(68552000.0, inplace= True)\n",
    "    data['dff_sold_bought'] = (data.sold - data.bought)\n",
    "    data['gain_loss'] = data.dff_sold_bought * data.euribor_rate \n",
    "    data['gain_loss_per_m'] = data.dff_sold_bought * data.euribor_rate \\\n",
    "                                *data['curr_to_euro']*data['start_sell']/30.\n",
    "    data['libor_rate'].fillna(0.0, inplace= True)\n",
    "    data['sold_libor'] = data['sold']*data['libor_rate']\n",
    "    data['sold_euribor'] = data['sold']*data['euribor_rate']\n",
    "    data['sold_in_euro'] = data['sold']*data['curr_to_euro']\n",
    "    data['bought_in_euro'] = data['bought']*data['curr_to_euro']\n",
    "    data.drop(['start_date','creation_date', 'sell_date'], inplace=True, axis=1)"
   ]
  },
  {
   "cell_type": "code",
   "execution_count": 31,
   "metadata": {
    "collapsed": true
   },
   "outputs": [],
   "source": [
    "date_features = ['start_day','start_month','start_year','creation_day','creation_month','creation_year',\n",
    "                'sell_day', 'sell_month']\n",
    "amt_features = ['curr_to_euro','sold', 'bought', 'euribor_rate', 'libor_rate','dff_sold_bought',\n",
    "                'gain_loss','gain_loss_per_m', 'sold_libor','sold_euribor','sold_in_euro','bought_in_euro']"
   ]
  },
  {
   "cell_type": "code",
   "execution_count": 22,
   "metadata": {
    "collapsed": true
   },
   "outputs": [],
   "source": [
    "train_label = train['return']\n",
    "test_portfolio_id = test.portfolio_id.values\n",
    "train_portfolio_id = train.portfolio_id.values\n",
    "\n",
    "train.drop(['portfolio_id', 'return'], inplace=True, axis=1)\n",
    "test.drop(['portfolio_id'], inplace=True, axis=1)"
   ]
  },
  {
   "cell_type": "code",
   "execution_count": 194,
   "metadata": {},
   "outputs": [],
   "source": [
    "train_list = [train[cat_count_features + date_features+amt_features].values, train_cat]\n",
    "test_list = [test[cat_count_features + date_features+amt_features].values, test_cat]\n",
    "X = ssp.hstack(train_list).tocsr()\n",
    "X_test = ssp.hstack(test_list).tocsr()\n",
    "#X      = train[cat_features + date_features + amt_features].values\n",
    "#X_test = test[cat_features + date_features + amt_features].values"
   ]
  },
  {
   "cell_type": "code",
   "execution_count": 195,
   "metadata": {},
   "outputs": [],
   "source": [
    "def lgb_r2(pred, drain):\n",
    "    y = drain.get_label()\n",
    "    score = r2_score(y, pred)\n",
    "    return 'r2_score', score, True\n",
    "\n",
    "\n",
    "NFOLDS = 6\n",
    "kfold = KFold(n_splits=NFOLDS, shuffle=True, random_state=13)"
   ]
  },
  {
   "cell_type": "code",
   "execution_count": 203,
   "metadata": {
    "collapsed": true
   },
   "outputs": [],
   "source": [
    "params = {'learning_rate': 0.1, \n",
    "          'num_leaves':70,\n",
    "          'min_data_in_leaf': 150,\n",
    "          'max_depth': -1, \n",
    "          'max_bin': 50,\n",
    "          'colsample_bytree': 0.8, #0.522,\n",
    "          'boosting': 'gbdt', \n",
    "          'application': 'regression', \n",
    "          'min_child_samples': 10,\n",
    "          #'min_child_weight': 150,\n",
    "          'min_split_gain': 0,\n",
    "          #'subsample': 0.9,         \n",
    "          'verbosity': 1,\n",
    "          }\n",
    "num_boost_round = 10000"
   ]
  },
  {
   "cell_type": "code",
   "execution_count": 206,
   "metadata": {},
   "outputs": [
    {
     "name": "stdout",
     "output_type": "stream",
     "text": [
      "Training until validation scores don't improve for 100 rounds.\n",
      "[100]\tvalid_0's r2_score: 0.972646\n",
      "[200]\tvalid_0's r2_score: 0.974845\n",
      "[300]\tvalid_0's r2_score: 0.974906\n",
      "Early stopping, best iteration is:\n",
      "[267]\tvalid_0's r2_score: 0.975341\n",
      "0.975340604684\n",
      "Training until validation scores don't improve for 100 rounds.\n",
      "[100]\tvalid_0's r2_score: 0.918752\n",
      "[200]\tvalid_0's r2_score: 0.920519\n",
      "Early stopping, best iteration is:\n",
      "[176]\tvalid_0's r2_score: 0.920773\n",
      "0.920773463444\n",
      "Training until validation scores don't improve for 100 rounds.\n",
      "[100]\tvalid_0's r2_score: 0.955859\n",
      "[200]\tvalid_0's r2_score: 0.960268\n",
      "[300]\tvalid_0's r2_score: 0.961241\n",
      "[400]\tvalid_0's r2_score: 0.962226\n",
      "Early stopping, best iteration is:\n",
      "[399]\tvalid_0's r2_score: 0.962245\n",
      "0.962244771\n",
      "Training until validation scores don't improve for 100 rounds.\n",
      "[100]\tvalid_0's r2_score: 0.469135\n",
      "[200]\tvalid_0's r2_score: 0.476399\n",
      "[300]\tvalid_0's r2_score: 0.47884\n",
      "Early stopping, best iteration is:\n",
      "[285]\tvalid_0's r2_score: 0.47907\n",
      "0.479070373571\n",
      "Training until validation scores don't improve for 100 rounds.\n",
      "[100]\tvalid_0's r2_score: 0.957066\n",
      "[200]\tvalid_0's r2_score: 0.958001\n",
      "Early stopping, best iteration is:\n",
      "[129]\tvalid_0's r2_score: 0.958515\n",
      "0.958515310939\n",
      "Training until validation scores don't improve for 100 rounds.\n",
      "[100]\tvalid_0's r2_score: 0.912975\n",
      "[200]\tvalid_0's r2_score: 0.910289\n",
      "Early stopping, best iteration is:\n",
      "[105]\tvalid_0's r2_score: 0.913592\n",
      "0.913592223839\n",
      "cv score: 0.8124634170259791\n",
      "current score: 0.8124634170259791, 1\n",
      "[0.97534060468387673, 0.92077346344405031, 0.96224477099982064, 0.47907037357105009, 0.9585153109394472, 0.91359222383856875]\n",
      "************************************************\n",
      "\n",
      "Training until validation scores don't improve for 100 rounds.\n",
      "[100]\tvalid_0's r2_score: 0.969813\n",
      "[200]\tvalid_0's r2_score: 0.972712\n",
      "[300]\tvalid_0's r2_score: 0.972915\n",
      "[400]\tvalid_0's r2_score: 0.973527\n",
      "Early stopping, best iteration is:\n",
      "[396]\tvalid_0's r2_score: 0.973714\n",
      "0.973714365108\n",
      "Training until validation scores don't improve for 100 rounds.\n",
      "[100]\tvalid_0's r2_score: 0.918558\n",
      "[200]\tvalid_0's r2_score: 0.920355\n",
      "Early stopping, best iteration is:\n",
      "[161]\tvalid_0's r2_score: 0.920694\n",
      "0.920694270412\n",
      "Training until validation scores don't improve for 100 rounds.\n",
      "[100]\tvalid_0's r2_score: 0.95587\n",
      "[200]\tvalid_0's r2_score: 0.960909\n",
      "[300]\tvalid_0's r2_score: 0.962346\n",
      "[400]\tvalid_0's r2_score: 0.962701\n",
      "[500]\tvalid_0's r2_score: 0.962466\n",
      "Early stopping, best iteration is:\n",
      "[420]\tvalid_0's r2_score: 0.96286\n",
      "0.962859892802\n",
      "Training until validation scores don't improve for 100 rounds.\n",
      "[100]\tvalid_0's r2_score: 0.470145\n",
      "[200]\tvalid_0's r2_score: 0.477589\n",
      "[300]\tvalid_0's r2_score: 0.479117\n",
      "[400]\tvalid_0's r2_score: 0.478431\n",
      "Early stopping, best iteration is:\n",
      "[333]\tvalid_0's r2_score: 0.479704\n",
      "0.479703986873\n",
      "Training until validation scores don't improve for 100 rounds.\n",
      "[100]\tvalid_0's r2_score: 0.956221\n",
      "[200]\tvalid_0's r2_score: 0.95846\n",
      "Early stopping, best iteration is:\n",
      "[161]\tvalid_0's r2_score: 0.958527\n",
      "0.958526658537\n",
      "Training until validation scores don't improve for 100 rounds.\n",
      "[100]\tvalid_0's r2_score: 0.912719\n",
      "[200]\tvalid_0's r2_score: 0.910269\n",
      "Early stopping, best iteration is:\n",
      "[123]\tvalid_0's r2_score: 0.913248\n",
      "0.913247775145\n",
      "cv score: 0.8124709892203138\n",
      "current score: 0.8128467697265045, 2\n",
      "[0.97371436510812615, 0.92069427041228269, 0.96285989280169426, 0.47970398687316307, 0.95852665853678454, 0.91324777514536171]\n",
      "************************************************\n",
      "\n",
      "Training until validation scores don't improve for 100 rounds.\n",
      "[100]\tvalid_0's r2_score: 0.971441\n",
      "[200]\tvalid_0's r2_score: 0.974233\n",
      "[300]\tvalid_0's r2_score: 0.974662\n",
      "Early stopping, best iteration is:\n",
      "[266]\tvalid_0's r2_score: 0.974857\n",
      "0.97485676008\n",
      "Training until validation scores don't improve for 100 rounds.\n",
      "[100]\tvalid_0's r2_score: 0.918421\n",
      "[200]\tvalid_0's r2_score: 0.921039\n",
      "[300]\tvalid_0's r2_score: 0.92007\n",
      "Early stopping, best iteration is:\n",
      "[203]\tvalid_0's r2_score: 0.921205\n",
      "0.921204717274\n",
      "Training until validation scores don't improve for 100 rounds.\n",
      "[100]\tvalid_0's r2_score: 0.954972\n",
      "[200]\tvalid_0's r2_score: 0.959696\n",
      "[300]\tvalid_0's r2_score: 0.961034\n",
      "[400]\tvalid_0's r2_score: 0.96158\n",
      "[500]\tvalid_0's r2_score: 0.961688\n",
      "Early stopping, best iteration is:\n",
      "[468]\tvalid_0's r2_score: 0.961816\n",
      "0.961816155833\n",
      "Training until validation scores don't improve for 100 rounds.\n",
      "[100]\tvalid_0's r2_score: 0.469589\n",
      "[200]\tvalid_0's r2_score: 0.476524\n",
      "[300]\tvalid_0's r2_score: 0.478547\n",
      "[400]\tvalid_0's r2_score: 0.479142\n",
      "Early stopping, best iteration is:\n",
      "[395]\tvalid_0's r2_score: 0.479332\n",
      "0.479332226642\n",
      "Training until validation scores don't improve for 100 rounds.\n",
      "[100]\tvalid_0's r2_score: 0.957124\n",
      "[200]\tvalid_0's r2_score: 0.958737\n",
      "Early stopping, best iteration is:\n",
      "[165]\tvalid_0's r2_score: 0.959215\n",
      "0.95921481693\n",
      "Training until validation scores don't improve for 100 rounds.\n",
      "[100]\tvalid_0's r2_score: 0.912353\n",
      "[200]\tvalid_0's r2_score: 0.910626\n",
      "Early stopping, best iteration is:\n",
      "[129]\tvalid_0's r2_score: 0.913022\n",
      "0.913022259418\n",
      "cv score: 0.812504233385923\n",
      "current score: 0.8129807485157468, 3\n",
      "[0.97485676008040067, 0.92120471727419539, 0.96181615583334645, 0.4793322266419332, 0.95921481693045296, 0.91302225941786908]\n",
      "************************************************\n",
      "\n",
      "Training until validation scores don't improve for 100 rounds.\n",
      "[100]\tvalid_0's r2_score: 0.971623\n",
      "[200]\tvalid_0's r2_score: 0.973957\n",
      "[300]\tvalid_0's r2_score: 0.975313\n",
      "Early stopping, best iteration is:\n",
      "[270]\tvalid_0's r2_score: 0.975466\n",
      "0.975466017264\n",
      "Training until validation scores don't improve for 100 rounds.\n",
      "[100]\tvalid_0's r2_score: 0.918117\n",
      "[200]\tvalid_0's r2_score: 0.919988\n",
      "Early stopping, best iteration is:\n",
      "[189]\tvalid_0's r2_score: 0.920256\n",
      "0.920256377059\n",
      "Training until validation scores don't improve for 100 rounds.\n",
      "[100]\tvalid_0's r2_score: 0.955426\n",
      "[200]\tvalid_0's r2_score: 0.960307\n",
      "[300]\tvalid_0's r2_score: 0.961461\n",
      "[400]\tvalid_0's r2_score: 0.961801\n",
      "Early stopping, best iteration is:\n",
      "[352]\tvalid_0's r2_score: 0.962116\n",
      "0.962116264071\n",
      "Training until validation scores don't improve for 100 rounds.\n",
      "[100]\tvalid_0's r2_score: 0.468913\n",
      "[200]\tvalid_0's r2_score: 0.477598\n",
      "[300]\tvalid_0's r2_score: 0.47937\n",
      "[400]\tvalid_0's r2_score: 0.478886\n",
      "Early stopping, best iteration is:\n",
      "[320]\tvalid_0's r2_score: 0.479784\n",
      "0.479784422435\n",
      "Training until validation scores don't improve for 100 rounds.\n",
      "[100]\tvalid_0's r2_score: 0.954028\n",
      "[200]\tvalid_0's r2_score: 0.95697\n",
      "[300]\tvalid_0's r2_score: 0.955654\n",
      "Early stopping, best iteration is:\n",
      "[230]\tvalid_0's r2_score: 0.957133\n",
      "0.957133072289\n",
      "Training until validation scores don't improve for 100 rounds.\n",
      "[100]\tvalid_0's r2_score: 0.911752\n",
      "[200]\tvalid_0's r2_score: 0.909591\n",
      "Early stopping, best iteration is:\n",
      "[118]\tvalid_0's r2_score: 0.911969\n",
      "0.911968665753\n",
      "cv score: 0.8121467109259761\n",
      "current score: 0.8129775348642826, 4\n",
      "[0.97546601726430282, 0.92025637705870811, 0.96211626407058171, 0.47978442243527253, 0.95713307228868438, 0.9119686657533348]\n",
      "************************************************\n",
      "\n",
      "[0.81246341702597913, 0.8124709892203138, 0.81250423338592304, 0.81214671092597612]\n"
     ]
    }
   ],
   "source": [
    "x_score = []\n",
    "cv_train_df = pd.DataFrame()\n",
    "cv_test_df = pd.DataFrame()\n",
    "no_round = 4\n",
    "for s in range(no_round):\n",
    "    cv_train = np.zeros(len(train_label))\n",
    "    cv_pred = np.zeros(len(test_portfolio_id))\n",
    "\n",
    "    params['seed'] = s\n",
    "    \n",
    "    kf = kfold.split(X, train_label)\n",
    "\n",
    "    best_trees = []\n",
    "    fold_scores = []\n",
    "    \n",
    "    for i, (train_fold, valid_fold) in enumerate(kf):\n",
    "        X_train, X_valid, y_train, y_valid = \\\n",
    "        X[train_fold, :], X[valid_fold, :], train_label[train_fold], train_label[valid_fold]\n",
    "                \n",
    "        dtrain = lgb.Dataset(X_train, y_train)\n",
    "        dvalid = lgb.Dataset(X_valid, y_valid, reference=dtrain)\n",
    "            \n",
    "        bst = lgb.train(params, dtrain, num_boost_round, valid_sets=dvalid, feval=lgb_r2, verbose_eval=100,\n",
    "                             early_stopping_rounds=100)            \n",
    "        best_trees.append(bst.best_iteration)\n",
    "            \n",
    "        #model = lgb.train(params,lgb.Dataset(X, train_label), num_boost_round=bst.best_iteration)\n",
    "        #cv_pred += model.predict(X_test)\n",
    "        #cv_train[valid_fold] += model.predict(X_valid)\n",
    "            \n",
    "        cv_pred += bst.predict(X_test, num_iteration=bst.best_iteration)\n",
    "        cv_train[valid_fold] += bst.predict(X_valid, num_iteration=bst.best_iteration)\n",
    "\n",
    "        score = r2_score(y_valid, cv_train[valid_fold])\n",
    "        print(score)\n",
    "        fold_scores.append(score)\n",
    "\n",
    "    cv_pred /= NFOLDS\n",
    "    cv_train_df['cv_train_%s'%str(s)] = cv_train\n",
    "    cv_test_df['cv_pred_%s'%str(s)] = cv_pred\n",
    "\n",
    "    print(\"cv score: {}\".format(r2_score(train_label, cv_train)))    \n",
    "    print (\"current score: {}, {}\".format(r2_score(train_label, cv_train_df.mean(axis=1)), s+1))\n",
    "    print(fold_scores)\n",
    "    #print(best_trees, np.mean(best_trees))\n",
    "    print(\"************************************************\")\n",
    "    print()\n",
    "    x_score.append(r2_score(train_label, cv_train))\n",
    "\n",
    "print(x_score)"
   ]
  },
  {
   "cell_type": "code",
   "execution_count": 198,
   "metadata": {},
   "outputs": [],
   "source": [
    "lr = LinearRegression()\n",
    "#lr = Ridge(alpha=0.001)"
   ]
  },
  {
   "cell_type": "code",
   "execution_count": 199,
   "metadata": {
    "collapsed": true
   },
   "outputs": [],
   "source": [
    "model = lr.fit(cv_train_df, train_label)"
   ]
  },
  {
   "cell_type": "code",
   "execution_count": 200,
   "metadata": {},
   "outputs": [
    {
     "data": {
      "text/plain": [
       "0.81315852117176635"
      ]
     },
     "execution_count": 200,
     "metadata": {},
     "output_type": "execute_result"
    }
   ],
   "source": [
    "r2_score(train_label, model.predict(cv_train_df))"
   ]
  },
  {
   "cell_type": "code",
   "execution_count": 113,
   "metadata": {
    "collapsed": true
   },
   "outputs": [],
   "source": [
    "pred =  model.predict(cv_test_df)"
   ]
  },
  {
   "cell_type": "code",
   "execution_count": 114,
   "metadata": {},
   "outputs": [
    {
     "data": {
      "text/html": [
       "<div>\n",
       "<style>\n",
       "    .dataframe thead tr:only-child th {\n",
       "        text-align: right;\n",
       "    }\n",
       "\n",
       "    .dataframe thead th {\n",
       "        text-align: left;\n",
       "    }\n",
       "\n",
       "    .dataframe tbody tr th {\n",
       "        vertical-align: top;\n",
       "    }\n",
       "</style>\n",
       "<table border=\"1\" class=\"dataframe\">\n",
       "  <thead>\n",
       "    <tr style=\"text-align: right;\">\n",
       "      <th></th>\n",
       "      <th>portfolio_id</th>\n",
       "      <th>return</th>\n",
       "    </tr>\n",
       "  </thead>\n",
       "  <tbody>\n",
       "    <tr>\n",
       "      <th>0</th>\n",
       "      <td>PF00001001</td>\n",
       "      <td>0.027476</td>\n",
       "    </tr>\n",
       "    <tr>\n",
       "      <th>1</th>\n",
       "      <td>PF00001004</td>\n",
       "      <td>0.033373</td>\n",
       "    </tr>\n",
       "    <tr>\n",
       "      <th>2</th>\n",
       "      <td>PF00001009</td>\n",
       "      <td>0.023194</td>\n",
       "    </tr>\n",
       "    <tr>\n",
       "      <th>3</th>\n",
       "      <td>PF00001013</td>\n",
       "      <td>0.026436</td>\n",
       "    </tr>\n",
       "    <tr>\n",
       "      <th>4</th>\n",
       "      <td>PF00001014</td>\n",
       "      <td>0.026352</td>\n",
       "    </tr>\n",
       "  </tbody>\n",
       "</table>\n",
       "</div>"
      ],
      "text/plain": [
       "  portfolio_id    return\n",
       "0   PF00001001  0.027476\n",
       "1   PF00001004  0.033373\n",
       "2   PF00001009  0.023194\n",
       "3   PF00001013  0.026436\n",
       "4   PF00001014  0.026352"
      ]
     },
     "execution_count": 114,
     "metadata": {},
     "output_type": "execute_result"
    }
   ],
   "source": [
    "sub = pd.DataFrame({'portfolio_id':test_portfolio_id, 'return': pred })\n",
    "sub.head(5)"
   ]
  },
  {
   "cell_type": "code",
   "execution_count": 115,
   "metadata": {
    "collapsed": true
   },
   "outputs": [],
   "source": [
    "sub.to_csv('lgbcv_bag_en_v1.csv', index=False)"
   ]
  },
  {
   "cell_type": "code",
   "execution_count": null,
   "metadata": {
    "collapsed": true
   },
   "outputs": [],
   "source": []
  }
 ],
 "metadata": {
  "kernelspec": {
   "display_name": "Python 3",
   "language": "python",
   "name": "python3"
  },
  "language_info": {
   "codemirror_mode": {
    "name": "ipython",
    "version": 3
   },
   "file_extension": ".py",
   "mimetype": "text/x-python",
   "name": "python",
   "nbconvert_exporter": "python",
   "pygments_lexer": "ipython3",
   "version": "3.5.2"
  }
 },
 "nbformat": 4,
 "nbformat_minor": 2
}
